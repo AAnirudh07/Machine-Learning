{
  "nbformat": 4,
  "nbformat_minor": 0,
  "metadata": {
    "colab": {
      "name": "MLMeet2.ipynb",
      "provenance": [],
      "collapsed_sections": []
    },
    "kernelspec": {
      "name": "python3",
      "display_name": "Python 3"
    },
    "language_info": {
      "name": "python"
    }
  },
  "cells": [
    {
      "cell_type": "markdown",
      "metadata": {
        "id": "knFn0jquhKvz"
      },
      "source": [
        "# Building an ML pipeline from scratch\n",
        "\n",
        "This notebook contains code for building modular machine learning pipeline that can be used to carry out regression and binary classification on datasets.\n",
        "\n",
        "### A simple pipeline:\n",
        "\n",
        "The ML pipeline can be broken down into 5 main stages:\n",
        "\n",
        "1. **Loading a dataset and visualising it**.\n",
        "    * Understanding underlying correlation in features, analysing the distribution of class labels and features.\n",
        "    * Done in [Meet 1](https://github.com/ssncodingclub/Machine-Learning/blob/master/Meet-1/BasicDataAnalysis.ipynb).\n",
        "2. **Pre-processing data**: \n",
        "    * Cleaning data (filling missing values, removing useless columns etc.)\n",
        "    * Engineering new features (based on domain knowledge)\n",
        "3. **Splitting the dataset** into train, validation (and test) sets.\n",
        "    * Normalising data - ensuring the ranges of values of all features are the same.\n",
        "    * Encoding data - ensuring categorical data is made numerical.\n",
        "4. **Training an ML model** with chosen hyperparameters.\n",
        "5. **Analysing metrics** to improve performance by choosing better hyperparameters.\n",
        "\n",
        "For synthetic data, step 2 is not applicable.\n",
        "\n",
        "\n",
        "Steps 2, 4, 5 are often done in a loop on a trial and error basis."
      ]
    },
    {
      "cell_type": "markdown",
      "metadata": {
        "id": "1sqQhJsPki9y"
      },
      "source": [
        "# Imports:"
      ]
    },
    {
      "cell_type": "code",
      "metadata": {
        "id": "LOsfoU1ZlMst"
      },
      "source": [
        "import numpy as np\n",
        "import matplotlib.pyplot as plt\n",
        "import pandas as pd\n",
        "from sklearn.model_selection import train_test_split\n",
        "\n",
        "plt.rcParams[\"figure.figsize\"] = (8, 6) # Set size of matplotlib plots"
      ],
      "execution_count": null,
      "outputs": []
    },
    {
      "cell_type": "markdown",
      "metadata": {
        "id": "jKOHxbEspM4S"
      },
      "source": [
        "## Some basic background before we start:\n",
        "\n",
        "* A dataset is (usually) a table consisting of:\n",
        "    * m rows - Each row is called a training example / data point, referring to one recording of real-world data.\n",
        "    * n input feature columns - Each column is called a feature / attribute, referring to some specific data collected for each training example. The data in these columns are fed into the model.\n",
        "    * 1 target column - this feature acts as the target, i.e: what we want the ML model to predict. All the other columns are inputs to our ML model.\n",
        "\n",
        "For example, this is a dataset of info about different houses:"
      ]
    },
    {
      "cell_type": "code",
      "metadata": {
        "colab": {
          "base_uri": "https://localhost:8080/",
          "height": 143
        },
        "id": "rJHaHTHVpNQa",
        "outputId": "63fe983b-6e91-4ac5-afe4-05fead3df85c"
      },
      "source": [
        "house_df = pd.DataFrame({'House ID': [12, 34, 23], \n",
        "                         'Size (in sq. feet)': [4560, 3422, 5490], \n",
        "                         'Number of bedrooms': [3, 3, 2], \n",
        "                         'City': ['Chennai', 'Mumbai', 'Bangalore'],\n",
        "                         'Price': [3056900, 4234000, 3890300]})\n",
        "house_df"
      ],
      "execution_count": null,
      "outputs": [
        {
          "output_type": "execute_result",
          "data": {
            "text/html": [
              "<div>\n",
              "<style scoped>\n",
              "    .dataframe tbody tr th:only-of-type {\n",
              "        vertical-align: middle;\n",
              "    }\n",
              "\n",
              "    .dataframe tbody tr th {\n",
              "        vertical-align: top;\n",
              "    }\n",
              "\n",
              "    .dataframe thead th {\n",
              "        text-align: right;\n",
              "    }\n",
              "</style>\n",
              "<table border=\"1\" class=\"dataframe\">\n",
              "  <thead>\n",
              "    <tr style=\"text-align: right;\">\n",
              "      <th></th>\n",
              "      <th>House ID</th>\n",
              "      <th>Size (in sq. feet)</th>\n",
              "      <th>Number of bedrooms</th>\n",
              "      <th>City</th>\n",
              "      <th>Price</th>\n",
              "    </tr>\n",
              "  </thead>\n",
              "  <tbody>\n",
              "    <tr>\n",
              "      <th>0</th>\n",
              "      <td>12</td>\n",
              "      <td>4560</td>\n",
              "      <td>3</td>\n",
              "      <td>Chennai</td>\n",
              "      <td>3056900</td>\n",
              "    </tr>\n",
              "    <tr>\n",
              "      <th>1</th>\n",
              "      <td>34</td>\n",
              "      <td>3422</td>\n",
              "      <td>3</td>\n",
              "      <td>Mumbai</td>\n",
              "      <td>4234000</td>\n",
              "    </tr>\n",
              "    <tr>\n",
              "      <th>2</th>\n",
              "      <td>23</td>\n",
              "      <td>5490</td>\n",
              "      <td>2</td>\n",
              "      <td>Bangalore</td>\n",
              "      <td>3890300</td>\n",
              "    </tr>\n",
              "  </tbody>\n",
              "</table>\n",
              "</div>"
            ],
            "text/plain": [
              "   House ID  Size (in sq. feet)  Number of bedrooms       City    Price\n",
              "0        12                4560                   3    Chennai  3056900\n",
              "1        34                3422                   3     Mumbai  4234000\n",
              "2        23                5490                   2  Bangalore  3890300"
            ]
          },
          "metadata": {},
          "execution_count": 2
        }
      ]
    },
    {
      "cell_type": "markdown",
      "metadata": {
        "id": "DTr4POsZqKEu"
      },
      "source": [
        "In this case, the target column is 'Price', so our goal is to predict the price of a house given the size, number of bedrooms and city.\n",
        "\n",
        "This is **supervised** regression problem.\n",
        "\n",
        "Another point to note in this sample is that the values present in the column **City** are not numerical. Strings are not a valid input to ML models since we deal with mathematical equations involving matrices and need to be encoded in a manner such that they are transformed into numerical values. One such encoding is obtained by using [label encoder](https://scikit-learn.org/stable/modules/generated/sklearn.preprocessing.LabelEncoder.html) of the scikit-learn library"
      ]
    },
    {
      "cell_type": "markdown",
      "metadata": {
        "id": "eLdtTF1qISq6"
      },
      "source": [
        "### Using label encoder"
      ]
    },
    {
      "cell_type": "code",
      "metadata": {
        "id": "XnI5BCI9ISKp"
      },
      "source": [
        "from sklearn.preprocessing import LabelEncoder"
      ],
      "execution_count": null,
      "outputs": []
    },
    {
      "cell_type": "code",
      "metadata": {
        "colab": {
          "base_uri": "https://localhost:8080/"
        },
        "id": "hNjKnZ1eIjXc",
        "outputId": "29b7d6e7-d30a-47b2-80bb-d4b576d6c495"
      },
      "source": [
        "le = LabelEncoder()\n",
        "le.fit(house_df.City)"
      ],
      "execution_count": null,
      "outputs": [
        {
          "output_type": "execute_result",
          "data": {
            "text/plain": [
              "LabelEncoder()"
            ]
          },
          "metadata": {},
          "execution_count": 4
        }
      ]
    },
    {
      "cell_type": "code",
      "metadata": {
        "colab": {
          "base_uri": "https://localhost:8080/"
        },
        "id": "fJskEwCwIugB",
        "outputId": "8894b12c-9278-43f1-a677-ad2aa7de997f"
      },
      "source": [
        "le.classes_"
      ],
      "execution_count": null,
      "outputs": [
        {
          "output_type": "execute_result",
          "data": {
            "text/plain": [
              "array(['Bangalore', 'Chennai', 'Mumbai'], dtype=object)"
            ]
          },
          "metadata": {},
          "execution_count": 5
        }
      ]
    },
    {
      "cell_type": "code",
      "metadata": {
        "colab": {
          "base_uri": "https://localhost:8080/",
          "height": 143
        },
        "id": "uqjkUjvBJbPC",
        "outputId": "9c86892f-888e-474d-e997-7fcec7b2118e"
      },
      "source": [
        "house_df"
      ],
      "execution_count": null,
      "outputs": [
        {
          "output_type": "execute_result",
          "data": {
            "text/html": [
              "<div>\n",
              "<style scoped>\n",
              "    .dataframe tbody tr th:only-of-type {\n",
              "        vertical-align: middle;\n",
              "    }\n",
              "\n",
              "    .dataframe tbody tr th {\n",
              "        vertical-align: top;\n",
              "    }\n",
              "\n",
              "    .dataframe thead th {\n",
              "        text-align: right;\n",
              "    }\n",
              "</style>\n",
              "<table border=\"1\" class=\"dataframe\">\n",
              "  <thead>\n",
              "    <tr style=\"text-align: right;\">\n",
              "      <th></th>\n",
              "      <th>House ID</th>\n",
              "      <th>Size (in sq. feet)</th>\n",
              "      <th>Number of bedrooms</th>\n",
              "      <th>City</th>\n",
              "      <th>Price</th>\n",
              "    </tr>\n",
              "  </thead>\n",
              "  <tbody>\n",
              "    <tr>\n",
              "      <th>0</th>\n",
              "      <td>12</td>\n",
              "      <td>4560</td>\n",
              "      <td>3</td>\n",
              "      <td>Chennai</td>\n",
              "      <td>3056900</td>\n",
              "    </tr>\n",
              "    <tr>\n",
              "      <th>1</th>\n",
              "      <td>34</td>\n",
              "      <td>3422</td>\n",
              "      <td>3</td>\n",
              "      <td>Mumbai</td>\n",
              "      <td>4234000</td>\n",
              "    </tr>\n",
              "    <tr>\n",
              "      <th>2</th>\n",
              "      <td>23</td>\n",
              "      <td>5490</td>\n",
              "      <td>2</td>\n",
              "      <td>Bangalore</td>\n",
              "      <td>3890300</td>\n",
              "    </tr>\n",
              "  </tbody>\n",
              "</table>\n",
              "</div>"
            ],
            "text/plain": [
              "   House ID  Size (in sq. feet)  Number of bedrooms       City    Price\n",
              "0        12                4560                   3    Chennai  3056900\n",
              "1        34                3422                   3     Mumbai  4234000\n",
              "2        23                5490                   2  Bangalore  3890300"
            ]
          },
          "metadata": {},
          "execution_count": 6
        }
      ]
    },
    {
      "cell_type": "markdown",
      "metadata": {
        "id": "O_MbQriZJuK4"
      },
      "source": [
        "#### Applying the label encoder"
      ]
    },
    {
      "cell_type": "code",
      "metadata": {
        "colab": {
          "base_uri": "https://localhost:8080/",
          "height": 143
        },
        "id": "VLp5cGDAIz4R",
        "outputId": "0a881108-f856-4787-e08b-6b3d3b24f310"
      },
      "source": [
        "encoded_house_df = house_df.copy()\n",
        "encoded_house_df['City'] = le.transform(encoded_house_df['City'])\n",
        "encoded_house_df"
      ],
      "execution_count": null,
      "outputs": [
        {
          "output_type": "execute_result",
          "data": {
            "text/html": [
              "<div>\n",
              "<style scoped>\n",
              "    .dataframe tbody tr th:only-of-type {\n",
              "        vertical-align: middle;\n",
              "    }\n",
              "\n",
              "    .dataframe tbody tr th {\n",
              "        vertical-align: top;\n",
              "    }\n",
              "\n",
              "    .dataframe thead th {\n",
              "        text-align: right;\n",
              "    }\n",
              "</style>\n",
              "<table border=\"1\" class=\"dataframe\">\n",
              "  <thead>\n",
              "    <tr style=\"text-align: right;\">\n",
              "      <th></th>\n",
              "      <th>House ID</th>\n",
              "      <th>Size (in sq. feet)</th>\n",
              "      <th>Number of bedrooms</th>\n",
              "      <th>City</th>\n",
              "      <th>Price</th>\n",
              "    </tr>\n",
              "  </thead>\n",
              "  <tbody>\n",
              "    <tr>\n",
              "      <th>0</th>\n",
              "      <td>12</td>\n",
              "      <td>4560</td>\n",
              "      <td>3</td>\n",
              "      <td>1</td>\n",
              "      <td>3056900</td>\n",
              "    </tr>\n",
              "    <tr>\n",
              "      <th>1</th>\n",
              "      <td>34</td>\n",
              "      <td>3422</td>\n",
              "      <td>3</td>\n",
              "      <td>2</td>\n",
              "      <td>4234000</td>\n",
              "    </tr>\n",
              "    <tr>\n",
              "      <th>2</th>\n",
              "      <td>23</td>\n",
              "      <td>5490</td>\n",
              "      <td>2</td>\n",
              "      <td>0</td>\n",
              "      <td>3890300</td>\n",
              "    </tr>\n",
              "  </tbody>\n",
              "</table>\n",
              "</div>"
            ],
            "text/plain": [
              "   House ID  Size (in sq. feet)  Number of bedrooms  City    Price\n",
              "0        12                4560                   3     1  3056900\n",
              "1        34                3422                   3     2  4234000\n",
              "2        23                5490                   2     0  3890300"
            ]
          },
          "metadata": {},
          "execution_count": 7
        }
      ]
    },
    {
      "cell_type": "markdown",
      "metadata": {
        "id": "UZPeqRe6J0HZ"
      },
      "source": [
        "#### Inverting (Decoding) the numerical Representations"
      ]
    },
    {
      "cell_type": "code",
      "metadata": {
        "colab": {
          "base_uri": "https://localhost:8080/",
          "height": 143
        },
        "id": "dv5i_6UWJhiR",
        "outputId": "6b2c4ba9-ebcb-4a61-f362-61ddec580f07"
      },
      "source": [
        "decoded_house_df = encoded_house_df.copy()\n",
        "decoded_house_df['City'] = le.inverse_transform(decoded_house_df['City'])\n",
        "decoded_house_df"
      ],
      "execution_count": null,
      "outputs": [
        {
          "output_type": "execute_result",
          "data": {
            "text/html": [
              "<div>\n",
              "<style scoped>\n",
              "    .dataframe tbody tr th:only-of-type {\n",
              "        vertical-align: middle;\n",
              "    }\n",
              "\n",
              "    .dataframe tbody tr th {\n",
              "        vertical-align: top;\n",
              "    }\n",
              "\n",
              "    .dataframe thead th {\n",
              "        text-align: right;\n",
              "    }\n",
              "</style>\n",
              "<table border=\"1\" class=\"dataframe\">\n",
              "  <thead>\n",
              "    <tr style=\"text-align: right;\">\n",
              "      <th></th>\n",
              "      <th>House ID</th>\n",
              "      <th>Size (in sq. feet)</th>\n",
              "      <th>Number of bedrooms</th>\n",
              "      <th>City</th>\n",
              "      <th>Price</th>\n",
              "    </tr>\n",
              "  </thead>\n",
              "  <tbody>\n",
              "    <tr>\n",
              "      <th>0</th>\n",
              "      <td>12</td>\n",
              "      <td>4560</td>\n",
              "      <td>3</td>\n",
              "      <td>Chennai</td>\n",
              "      <td>3056900</td>\n",
              "    </tr>\n",
              "    <tr>\n",
              "      <th>1</th>\n",
              "      <td>34</td>\n",
              "      <td>3422</td>\n",
              "      <td>3</td>\n",
              "      <td>Mumbai</td>\n",
              "      <td>4234000</td>\n",
              "    </tr>\n",
              "    <tr>\n",
              "      <th>2</th>\n",
              "      <td>23</td>\n",
              "      <td>5490</td>\n",
              "      <td>2</td>\n",
              "      <td>Bangalore</td>\n",
              "      <td>3890300</td>\n",
              "    </tr>\n",
              "  </tbody>\n",
              "</table>\n",
              "</div>"
            ],
            "text/plain": [
              "   House ID  Size (in sq. feet)  Number of bedrooms       City    Price\n",
              "0        12                4560                   3    Chennai  3056900\n",
              "1        34                3422                   3     Mumbai  4234000\n",
              "2        23                5490                   2  Bangalore  3890300"
            ]
          },
          "metadata": {},
          "execution_count": 8
        }
      ]
    },
    {
      "cell_type": "markdown",
      "metadata": {
        "id": "KbW5cjrZkEc0"
      },
      "source": [
        "## Some helper functions:"
      ]
    },
    {
      "cell_type": "code",
      "metadata": {
        "id": "iTPX7GuBVPU3"
      },
      "source": [
        "class LinearRegression(object):\n",
        "    \n",
        "    def __init__(self):\n",
        "        \"\"\" theta        -- Parameters (initialised in fit method)\n",
        "            train_losses -- list of losses, populated during training. \n",
        "            val_losses   -- list of validation losses, populated during training. \n",
        "        \"\"\"\n",
        "        self.theta = None\n",
        "        self.train_losses = []\n",
        "        self.val_losses = []\n",
        "\n",
        "    def predict(self, X):\n",
        "        \"\"\"Return predictions based on current parameters.\"\"\"\n",
        "        return X.dot(self.theta)\n",
        "\n",
        "    def loss(self, X, y):\n",
        "        \"\"\"Return MSE loss function value to optimise.\"\"\"\n",
        "        return (1/2) * ((self.predict(X) - y) ** 2).mean()\n",
        "\n",
        "    def gradient(self, X, y):\n",
        "        \"\"\"Return the gradient of the loss function.\"\"\"\n",
        "        return (1/X.shape[0]) * X.T.dot(self.predict(X) - y)\n",
        "\n",
        "    def fit(self, X_train, y_train, X_val, y_val, lr=0.001, epochs=5):\n",
        "        \"\"\"Fit a Linear Regression model on the given data.\n",
        "           X_train  -- train data (m * n matrix)\n",
        "           y_train  -- train targets (m-dimensional vector)\n",
        "           X_val    -- validation data (m' * n matrix)\n",
        "           y_val    -- validation targets (m'-dimensional vector)\n",
        "           lr       -- learning rate (default 0.01)\n",
        "           epochs   -- number of times to iterate over data (default 1)\n",
        "        \"\"\"\n",
        "        self.theta = np.zeros(X_train.shape[1])\n",
        "        for epoch in range(epochs):\n",
        "            self.theta = self.theta - lr * self.gradient(X_train, y_train)\n",
        "            self.train_losses.append(self.loss(X_train, y_train))\n",
        "            self.val_losses.append(self.loss(X_val, y_val))\n",
        "\n",
        "    def plot_losses(self):\n",
        "        plt.plot(self.train_losses, label=\"Train Loss\")\n",
        "        plt.plot(self.val_losses, label=\"Validation Loss\")\n",
        "        plt.title(\"Loss Curve\", fontsize=18)\n",
        "        plt.xlabel(\"Epochs\", fontsize=14)\n",
        "        plt.ylabel(\"Error\", fontsize=14)\n",
        "        plt.legend()\n",
        "        plt.show()\n",
        "\n",
        "\n",
        "def gen_linear_dataset(n, scale, std_dev, c):\n",
        "    \"\"\"\n",
        "    Generates a synthetic linear regression dataset\n",
        "    n       -- Number of data points (rows)\n",
        "    scale   -- Scaling factor\n",
        "    std_dev -- Standard deviation\n",
        "    c       -- intercept\n",
        "    \"\"\"\n",
        "    x = np.array([i for i in range(n)])\n",
        "    e = np.random.randn(n) * std_dev        # Sample from normal distribution and multiply by std deviation\n",
        "    y = x * scale + e + c\n",
        "    return x.reshape(-1, 1), y\n",
        "\n",
        "def augment_with_zeros(X):\n",
        "    \"\"\"\n",
        "    Appends 1 to each of the data points for bias input\n",
        "    X -- Dataset containing all the x\n",
        "    \"\"\"\n",
        "    return np.c_[X, np.ones(X.shape[0])]    # np.c_ is used to stack the args along the columns\n",
        "\n",
        "def mean_squared_error(y_true, y_pred):\n",
        "    return ((y_true - y_pred) ** 2).mean()\n"
      ],
      "execution_count": null,
      "outputs": []
    },
    {
      "cell_type": "markdown",
      "metadata": {
        "id": "LTibS0DZq3kg"
      },
      "source": [
        "# An example: Simple 2D Regression \n",
        "\n",
        "Before we delve into a real-world example, let's create the pipeline for toy data, and then use the various modules we create for a real-world dataset (graduate admissions prediction).\n",
        "\n"
      ]
    },
    {
      "cell_type": "markdown",
      "metadata": {
        "id": "_Old9VhskI-N"
      },
      "source": [
        "# Loading data:\n",
        "\n",
        "* We generate a set of points in a 2D plane that follow a general linear relationship between y (our target) and x (our input). Generally, the dimensions of input x (number of columns) can be anything, for easy visualisation and math, we chose the input to be 1-dimensional.\n",
        "\n",
        "* **Linear regression** is a supervised regression algorithm that works when the relationship between our features and target are linear.\n",
        "\n",
        "### What is a model?\n",
        "\n",
        "* A model is simply a function that maps our input features to the target. \n",
        "* In the house dataset example, a model would take the size, number of bedrooms and city as input and output a number which is the predicted price of the house with those features.\n",
        "* In our toy data case, a model would take in an x value as input and produce a y value, thus it forms a line on this graph.\n",
        "* **So the goal is to fit a straight line to the points in the graph**"
      ]
    },
    {
      "cell_type": "code",
      "metadata": {
        "colab": {
          "base_uri": "https://localhost:8080/",
          "height": 265
        },
        "id": "ApsFTBa9VfhT",
        "outputId": "57c8c276-e150-4861-c29b-497157b3a129"
      },
      "source": [
        "X, y = gen_linear_dataset(50, 3, 8, 10)\n",
        "plt.scatter(X[:, 0], y)\n",
        "plt.show()"
      ],
      "execution_count": null,
      "outputs": [
        {
          "output_type": "display_data",
          "data": {
            "image/png": "[encoded data removed]",
            "text/plain": [
              "<Figure size 432x288 with 1 Axes>"
            ]
          },
          "metadata": {
            "needs_background": "light"
          }
        }
      ]
    },
    {
      "cell_type": "code",
      "metadata": {
        "colab": {
          "base_uri": "https://localhost:8080/",
          "height": 363
        },
        "id": "C8GlBmpVsYEz",
        "outputId": "b7437d58-adec-40ce-ef2d-16dc775e0a14"
      },
      "source": [
        "pd.DataFrame({'Input': X[:, 0], 'Target': y}).head(10)"
      ],
      "execution_count": null,
      "outputs": [
        {
          "output_type": "execute_result",
          "data": {
            "text/html": [
              "<div>\n",
              "<style scoped>\n",
              "    .dataframe tbody tr th:only-of-type {\n",
              "        vertical-align: middle;\n",
              "    }\n",
              "\n",
              "    .dataframe tbody tr th {\n",
              "        vertical-align: top;\n",
              "    }\n",
              "\n",
              "    .dataframe thead th {\n",
              "        text-align: right;\n",
              "    }\n",
              "</style>\n",
              "<table border=\"1\" class=\"dataframe\">\n",
              "  <thead>\n",
              "    <tr style=\"text-align: right;\">\n",
              "      <th></th>\n",
              "      <th>Input</th>\n",
              "      <th>Target</th>\n",
              "    </tr>\n",
              "  </thead>\n",
              "  <tbody>\n",
              "    <tr>\n",
              "      <th>0</th>\n",
              "      <td>0</td>\n",
              "      <td>4.032709</td>\n",
              "    </tr>\n",
              "    <tr>\n",
              "      <th>1</th>\n",
              "      <td>1</td>\n",
              "      <td>18.266477</td>\n",
              "    </tr>\n",
              "    <tr>\n",
              "      <th>2</th>\n",
              "      <td>2</td>\n",
              "      <td>17.533724</td>\n",
              "    </tr>\n",
              "    <tr>\n",
              "      <th>3</th>\n",
              "      <td>3</td>\n",
              "      <td>18.364406</td>\n",
              "    </tr>\n",
              "    <tr>\n",
              "      <th>4</th>\n",
              "      <td>4</td>\n",
              "      <td>14.535691</td>\n",
              "    </tr>\n",
              "    <tr>\n",
              "      <th>5</th>\n",
              "      <td>5</td>\n",
              "      <td>23.575227</td>\n",
              "    </tr>\n",
              "    <tr>\n",
              "      <th>6</th>\n",
              "      <td>6</td>\n",
              "      <td>15.982773</td>\n",
              "    </tr>\n",
              "    <tr>\n",
              "      <th>7</th>\n",
              "      <td>7</td>\n",
              "      <td>44.633466</td>\n",
              "    </tr>\n",
              "    <tr>\n",
              "      <th>8</th>\n",
              "      <td>8</td>\n",
              "      <td>42.841006</td>\n",
              "    </tr>\n",
              "    <tr>\n",
              "      <th>9</th>\n",
              "      <td>9</td>\n",
              "      <td>33.079981</td>\n",
              "    </tr>\n",
              "  </tbody>\n",
              "</table>\n",
              "</div>"
            ],
            "text/plain": [
              "   Input     Target\n",
              "0      0   4.032709\n",
              "1      1  18.266477\n",
              "2      2  17.533724\n",
              "3      3  18.364406\n",
              "4      4  14.535691\n",
              "5      5  23.575227\n",
              "6      6  15.982773\n",
              "7      7  44.633466\n",
              "8      8  42.841006\n",
              "9      9  33.079981"
            ]
          },
          "metadata": {},
          "execution_count": 20
        }
      ]
    },
    {
      "cell_type": "markdown",
      "metadata": {
        "id": "b1Ge4HKjsvN6"
      },
      "source": [
        "## Some more background before we move on:\n",
        "\n",
        "As outlined before, the goal is to fit a line to the set of points. <br/>\n",
        "Let's define a simple straight line:\n",
        "\n",
        "$$\n",
        "\\hat{y} = wx + b \n",
        "$$\n",
        "So once an $w$ and $b$ have been chosen, for any $x$ the corresponding $\\hat{y} $ can be calculated.\n",
        "---\n",
        "### What if we have more than one input (say $x_{1}$, $x_{2}$, $x_{3}$ etc.), let's make this more modular:\n",
        "\n",
        "If each training example had say 3 features $x_{1}, x_{2}, x_{3}$, our model would be:\n",
        "$$\n",
        "\\hat{y}  = w_{1}x_{1} + w_{2}x_{2} + w_{3}x_{3} + b\n",
        "$$\n",
        "\n",
        "In general,\n",
        "$$\n",
        "\\hat{y} = w.x + b\n",
        "$$\n",
        "Where:\n",
        "* $w$ (called as theta in the code) is a vector of weights/importances $[w_{1}, w_{2}, w_{3} \\ldots w_{n}]$ <br />assigned to each input in a training example $x$ ($[x_{1}, x_{2}, x_{3} \\ldots x_{n}]$) \n",
        "* $b$ is called a **bias**, which is independent of the input.\n",
        "* In our house pricing example, n would be 3 as there are 3 input features and in our toy line dataset, n is 1.\n",
        "\n",
        "### Let's make this even more simpler\n",
        "The bias $b$ is basically multiplied by 1, so let's augment our input vector to have a 1 at the end to account for the bias, and lets append this bias as the last element of our weight vector $W$\n",
        "\n",
        "$$\n",
        "\\hat{y} = w.x\n",
        "$$\n",
        "\n",
        "Where:\n",
        "* $w$ is $[w_{1}, w_{2}, w_{3} \\ldots w_{n},\\: b]$\n",
        "* $x$ is $[x_{1}, x_{2}, x_{3} \\ldots x_{n},\\: 1]$\n",
        "\n",
        "### Still not simple enough...\n",
        "Now, given a single training example (a row from our dataset), we can get the predicted output (a single number).\n",
        "\n",
        "What if there is a way to evaluate the predictions of the whole dataset in one formula? That's where matrix operations comes in.\n",
        "\n",
        "Assume our dataset has $m$ rows (training examples) and $n$ input features (excluding the target column). Now instead of feeding one row of this to the model, let's feed the entire dataset to the model. This dataset is a matrix of shape $m \\times n$. \n",
        "\n",
        "Again, we have to augment this dataset to account for the bias $b$ in the $w$ vector. Unlike the previous case, instead of adding a 1 to the end of the $x$ vector, we add a **column** of ones to the end of the $X$ **matrix**.\n",
        "\n",
        "After this, a simple matrix multiplication should do.\n",
        "\n",
        "$$\n",
        "\\hat{Y} = X.w\n",
        "$$\n",
        "\n",
        "Where:\n",
        "\n",
        "* $\\hat{Y}$ is the m-dimensional vector of predictions (each entry corresponds to the prediction for each of the m training examples) Dimensions: $m \\times 1$\n",
        "* $w$ is $[w1, w2, w3..wn, b]$ - the same augmented weight vector (with the bias at the end), Dimensions: $(n+1) \\times 1$\n",
        "* $X$ is the dataset itself, consisting of m rows and (n+1) columns (the last column being just ones) Dimensions: $m \\times (n+1)$\n",
        "* Thus, $m \\times (n+1)$ multiplied by $(n+1) \\times 1$ gives $m \\times 1$\n"
      ]
    },
    {
      "cell_type": "markdown",
      "metadata": {
        "id": "ts1_-AsD1PGf"
      },
      "source": [
        "### So we have a model, now what?\n",
        "\n",
        "As you have seen, the model is characterised purely by it $w$ vector (the vector of all the weights assigned to each feature and the bias). The goal is to fit the line to the points, but what does **a good fit** even mean?\n",
        "\n",
        "Each fit is essentially one configuration of the $w$ vector, there are infinitely many values this vector can take. How do we decide a fit is _good_?\n",
        "\n",
        "Well, we have to mathematically define what **good** means:\n",
        "How close are the predicted values $\\hat{Y}$ to the actual values $Y$?\n",
        "\n",
        "This functions is what we call a **Loss** function in ML and it takes many forms depending on the type of problem, a simple measure is the mean squared error between predicted and actual values:\n",
        "\n",
        "$$\n",
        "L(y, \\hat{y}) = \\frac{1}{2m}\\sum_{i=1}^{m}(\\hat{y} - y)^2\n",
        "$$\n",
        "\n",
        "### So lower the MSE, the better. Now we can easily evaluate how a model is doing. By model, again we mean some specific configuration of the $w$ vector. Thus, this loss is a function of the vector $w$ itself and our goal is now to tweak $w$ so as to minimise this loss value.\n",
        "\n"
      ]
    },
    {
      "cell_type": "markdown",
      "metadata": {
        "id": "mCxJktdbrSyd"
      },
      "source": [
        "# Pre-processing the data:\n",
        "\n",
        "Since this is a synthetic dataset, this step does **not** apply here."
      ]
    },
    {
      "cell_type": "markdown",
      "metadata": {
        "id": "Cwv5MNtWkJz7"
      },
      "source": [
        "# Splitting data:"
      ]
    },
    {
      "cell_type": "markdown",
      "metadata": {
        "id": "MOFkg02s7gC9"
      },
      "source": [
        "* To validate how our model is doing, we use a separate validation dataset (pre-processed exactly like the training dataset).\n",
        "* The validation data is not used for training, rather we just observe MSE loss on those data points to see how our model is doing. Using the training data for this purpose is misleading, as the model will obviously perform well on the training data, it is being trained on it after all.\n",
        "* We usually split the entire dataset into train and validation as a 80-20 split. i.e: 80% of data is training data, remaining is for validation.\n"
      ]
    },
    {
      "cell_type": "code",
      "metadata": {
        "id": "Yk2oFXOZfzq0"
      },
      "source": [
        "# To add a column of ones in the dataset to account for bias\n",
        "X = augment_with_zeros(X)\n",
        "\n",
        "X_train, X_val, y_train, y_val = train_test_split(X, y, test_size=0.2, random_state=42)"
      ],
      "execution_count": null,
      "outputs": []
    },
    {
      "cell_type": "code",
      "metadata": {
        "colab": {
          "base_uri": "https://localhost:8080/",
          "height": 265
        },
        "id": "8xBK2ondf3or",
        "outputId": "403e73b9-cd4a-4d9e-8e2b-3144a254287d"
      },
      "source": [
        "plt.scatter(X_train[:, 0], y_train, c='b', label=\"Training\")\n",
        "plt.scatter(X_val[:, 0], y_val, c='r', label=\"Validation\")\n",
        "plt.legend(fontsize=15)\n",
        "plt.show()"
      ],
      "execution_count": null,
      "outputs": [
        {
          "output_type": "display_data",
          "data": {
            "image/png": "[encoded data removed]",
            "text/plain": [
              "<Figure size 432x288 with 1 Axes>"
            ]
          },
          "metadata": {
            "needs_background": "light"
          }
        }
      ]
    },
    {
      "cell_type": "markdown",
      "metadata": {
        "id": "Y0HD6p0TkMCR"
      },
      "source": [
        "# Training the model:"
      ]
    },
    {
      "cell_type": "markdown",
      "metadata": {
        "id": "teYMe3Mp8esZ"
      },
      "source": [
        "## How do we minimise the loss?\n",
        "\n",
        "This is where optimisation algorithms come in. Let's look at the simplest one, **Gradient Descent**\n",
        "\n",
        "### Gradient Descent:\n",
        "\n",
        "What is a gradient of a function? <br />\n",
        "Consider a function that takes a n-dimensional vector as input.\n",
        "Now, if we find the derivative of this function with respect to each component of this vector (i.e: each input), and make those values into a n-dimensional vector, that becomes the gradient.\n",
        "Thus, a gradient is also a vector. More importantly, it specifies the direction in which the input must be changed to increase the value of the function the most. <br />\n",
        "\n",
        "i.e: The gradient is the direction of **steepest ascent**.\n",
        "Thus, moving the input $w$ by the gradient ($w$ + gradient) will increase the value of the function the most.\n",
        "\n",
        "Now, we have a similar situation with a loss function that takes in an n-dimensional vector $w$ as input. But our goal is to **minimise** this loss function. Hence, we move in the direction of **negative of gradient**. Hence, the name: Gradient Descent. \n",
        "\n",
        "Gradient Descent update rule:\n",
        "\n",
        "$$\n",
        "w' = w - \\eta * \\nabla L(w)\n",
        "$$\n",
        "\n",
        "where $\\eta$ is the learning rate. To start off, the weights can be randomly intialiased or can all be set to zero (what we do in the code).\n",
        "\n",
        "This process is done iteratively, we calculate the gradient of the loss (over all training examples), adjust the weights, again the calculate the gradient, adjust weights and so on.\n",
        "\n",
        "The number of times the model sees the whole training data is called number of **epochs**.\n",
        "We scale the amount by which we move, this scaling factor applied to the gradient is called the **learning rate**, which has a major impact on how training proceeds.\n",
        "\n",
        "These parameters are set by us and not learnt by the algorithm, hence they have a special name: **hyperparameters**\n"
      ]
    },
    {
      "cell_type": "code",
      "metadata": {
        "colab": {
          "base_uri": "https://localhost:8080/"
        },
        "id": "ZJBGBwUzUsNr",
        "outputId": "ab0de3e6-6f4f-4c4b-900e-ada11b45f000"
      },
      "source": [
        "model = LinearRegression()\n",
        "model.fit(X_train, \n",
        "          y_train,\n",
        "          X_val,\n",
        "          y_val,\n",
        "          lr=0.002,\n",
        "          epochs=10)\n",
        "\n",
        "print(\"Training Complete\")\n",
        "print(model.theta)"
      ],
      "execution_count": null,
      "outputs": [
        {
          "output_type": "stream",
          "name": "stdout",
          "text": [
            "Training Complete\n",
            "[3.27772359 0.15894438]\n"
          ]
        }
      ]
    },
    {
      "cell_type": "markdown",
      "metadata": {
        "id": "zBzNOISUkO5A"
      },
      "source": [
        "# Analysing performance:"
      ]
    },
    {
      "cell_type": "code",
      "metadata": {
        "colab": {
          "base_uri": "https://localhost:8080/",
          "height": 338
        },
        "id": "8sZQcWxhkPeF",
        "outputId": "ad6e6fba-1d6c-474e-9d1e-da4c9bc14644"
      },
      "source": [
        "model.plot_losses()\n",
        "\n",
        "print(f'\\nValidation set MSE: {mean_squared_error(y_val, model.predict(X_val))}')"
      ],
      "execution_count": null,
      "outputs": [
        {
          "output_type": "display_data",
          "data": {
            "image/png": "[encoded data removed]",
            "text/plain": [
              "<Figure size 432x288 with 1 Axes>"
            ]
          },
          "metadata": {
            "needs_background": "light"
          }
        },
        {
          "output_type": "stream",
          "name": "stdout",
          "text": [
            "\n",
            "Validation set MSE: 89.59135569262625\n"
          ]
        }
      ]
    },
    {
      "cell_type": "code",
      "metadata": {
        "colab": {
          "base_uri": "https://localhost:8080/",
          "height": 265
        },
        "id": "CxQEQFwXkujs",
        "outputId": "511d80e5-afca-4715-c6d8-0a8551a1eaef"
      },
      "source": [
        "plt.scatter(X_train[:, 0], y_train, c='b', label=\"Training\")\n",
        "plt.scatter(X_val[:, 0], y_val, c='r', label=\"Validation\")\n",
        "plt.plot(X[:, 0], model.predict(X), linewidth=3)\n",
        "plt.legend()\n",
        "plt.show()"
      ],
      "execution_count": null,
      "outputs": [
        {
          "output_type": "display_data",
          "data": {
            "image/png": "[encoded data removed]",
            "text/plain": [
              "<Figure size 432x288 with 1 Axes>"
            ]
          },
          "metadata": {
            "needs_background": "light"
          }
        }
      ]
    }
  ]
}