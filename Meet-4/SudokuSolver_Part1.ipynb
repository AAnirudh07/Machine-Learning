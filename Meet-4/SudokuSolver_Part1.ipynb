{
  "nbformat": 4,
  "nbformat_minor": 0,
  "metadata": {
    "colab": {
      "name": "SudokuSolver-Part1.ipynb",
      "provenance": [],
      "collapsed_sections": []
    },
    "kernelspec": {
      "name": "python3",
      "display_name": "Python 3"
    },
    "language_info": {
      "name": "python"
    },
    "widgets": {
      "application/vnd.jupyter.widget-state+json": {
        "e52aff9c4a3f4dc8a46356f59fc5d63a": {
          "model_module": "@jupyter-widgets/controls",
          "model_name": "HBoxModel",
          "model_module_version": "1.5.0",
          "state": {
            "_view_name": "HBoxView",
            "_dom_classes": [],
            "_model_name": "HBoxModel",
            "_view_module": "@jupyter-widgets/controls",
            "_model_module_version": "1.5.0",
            "_view_count": null,
            "_view_module_version": "1.5.0",
            "box_style": "",
            "layout": "IPY_MODEL_ee1c39721b4c404785baa7fc5a3150be",
            "_model_module": "@jupyter-widgets/controls",
            "children": [
              "IPY_MODEL_46b8c0451da542d39575dc9cd8284a7f",
              "IPY_MODEL_e22d0e9e5a624285b279e7353fbe9ae2",
              "IPY_MODEL_95d4c992455440b698fbca5f2f1792d8"
            ]
          }
        },
        "ee1c39721b4c404785baa7fc5a3150be": {
          "model_module": "@jupyter-widgets/base",
          "model_name": "LayoutModel",
          "model_module_version": "1.2.0",
          "state": {
            "_view_name": "LayoutView",
            "grid_template_rows": null,
            "right": null,
            "justify_content": null,
            "_view_module": "@jupyter-widgets/base",
            "overflow": null,
            "_model_module_version": "1.2.0",
            "_view_count": null,
            "flex_flow": null,
            "width": null,
            "min_width": null,
            "border": null,
            "align_items": null,
            "bottom": null,
            "_model_module": "@jupyter-widgets/base",
            "top": null,
            "grid_column": null,
            "overflow_y": null,
            "overflow_x": null,
            "grid_auto_flow": null,
            "grid_area": null,
            "grid_template_columns": null,
            "flex": null,
            "_model_name": "LayoutModel",
            "justify_items": null,
            "grid_row": null,
            "max_height": null,
            "align_content": null,
            "visibility": null,
            "align_self": null,
            "height": null,
            "min_height": null,
            "padding": null,
            "grid_auto_rows": null,
            "grid_gap": null,
            "max_width": null,
            "order": null,
            "_view_module_version": "1.2.0",
            "grid_template_areas": null,
            "object_position": null,
            "object_fit": null,
            "grid_auto_columns": null,
            "margin": null,
            "display": null,
            "left": null
          }
        },
        "46b8c0451da542d39575dc9cd8284a7f": {
          "model_module": "@jupyter-widgets/controls",
          "model_name": "HTMLModel",
          "model_module_version": "1.5.0",
          "state": {
            "_view_name": "HTMLView",
            "style": "IPY_MODEL_4a7643947bd84ecc8a0591ad538f6d09",
            "_dom_classes": [],
            "description": "",
            "_model_name": "HTMLModel",
            "placeholder": "​",
            "_view_module": "@jupyter-widgets/controls",
            "_model_module_version": "1.5.0",
            "value": "100%",
            "_view_count": null,
            "_view_module_version": "1.5.0",
            "description_tooltip": null,
            "_model_module": "@jupyter-widgets/controls",
            "layout": "IPY_MODEL_84bfc46d4465445989194a502901c966"
          }
        },
        "e22d0e9e5a624285b279e7353fbe9ae2": {
          "model_module": "@jupyter-widgets/controls",
          "model_name": "FloatProgressModel",
          "model_module_version": "1.5.0",
          "state": {
            "_view_name": "ProgressView",
            "style": "IPY_MODEL_9132d92fab594bf18ed3915b5b54a6a4",
            "_dom_classes": [],
            "description": "",
            "_model_name": "FloatProgressModel",
            "bar_style": "success",
            "max": 160,
            "_view_module": "@jupyter-widgets/controls",
            "_model_module_version": "1.5.0",
            "value": 160,
            "_view_count": null,
            "_view_module_version": "1.5.0",
            "orientation": "horizontal",
            "min": 0,
            "description_tooltip": null,
            "_model_module": "@jupyter-widgets/controls",
            "layout": "IPY_MODEL_46bd26911ab44360a8e2300fead8ec17"
          }
        },
        "95d4c992455440b698fbca5f2f1792d8": {
          "model_module": "@jupyter-widgets/controls",
          "model_name": "HTMLModel",
          "model_module_version": "1.5.0",
          "state": {
            "_view_name": "HTMLView",
            "style": "IPY_MODEL_11a49fc9e3ae4dcebec0e61ee5c6b27e",
            "_dom_classes": [],
            "description": "",
            "_model_name": "HTMLModel",
            "placeholder": "​",
            "_view_module": "@jupyter-widgets/controls",
            "_model_module_version": "1.5.0",
            "value": " 160/160 [00:05&lt;00:00, 31.44it/s]",
            "_view_count": null,
            "_view_module_version": "1.5.0",
            "description_tooltip": null,
            "_model_module": "@jupyter-widgets/controls",
            "layout": "IPY_MODEL_b5ff8f24742b4d3ab333b184ce3af850"
          }
        },
        "4a7643947bd84ecc8a0591ad538f6d09": {
          "model_module": "@jupyter-widgets/controls",
          "model_name": "DescriptionStyleModel",
          "model_module_version": "1.5.0",
          "state": {
            "_view_name": "StyleView",
            "_model_name": "DescriptionStyleModel",
            "description_width": "",
            "_view_module": "@jupyter-widgets/base",
            "_model_module_version": "1.5.0",
            "_view_count": null,
            "_view_module_version": "1.2.0",
            "_model_module": "@jupyter-widgets/controls"
          }
        },
        "84bfc46d4465445989194a502901c966": {
          "model_module": "@jupyter-widgets/base",
          "model_name": "LayoutModel",
          "model_module_version": "1.2.0",
          "state": {
            "_view_name": "LayoutView",
            "grid_template_rows": null,
            "right": null,
            "justify_content": null,
            "_view_module": "@jupyter-widgets/base",
            "overflow": null,
            "_model_module_version": "1.2.0",
            "_view_count": null,
            "flex_flow": null,
            "width": null,
            "min_width": null,
            "border": null,
            "align_items": null,
            "bottom": null,
            "_model_module": "@jupyter-widgets/base",
            "top": null,
            "grid_column": null,
            "overflow_y": null,
            "overflow_x": null,
            "grid_auto_flow": null,
            "grid_area": null,
            "grid_template_columns": null,
            "flex": null,
            "_model_name": "LayoutModel",
            "justify_items": null,
            "grid_row": null,
            "max_height": null,
            "align_content": null,
            "visibility": null,
            "align_self": null,
            "height": null,
            "min_height": null,
            "padding": null,
            "grid_auto_rows": null,
            "grid_gap": null,
            "max_width": null,
            "order": null,
            "_view_module_version": "1.2.0",
            "grid_template_areas": null,
            "object_position": null,
            "object_fit": null,
            "grid_auto_columns": null,
            "margin": null,
            "display": null,
            "left": null
          }
        },
        "9132d92fab594bf18ed3915b5b54a6a4": {
          "model_module": "@jupyter-widgets/controls",
          "model_name": "ProgressStyleModel",
          "model_module_version": "1.5.0",
          "state": {
            "_view_name": "StyleView",
            "_model_name": "ProgressStyleModel",
            "description_width": "",
            "_view_module": "@jupyter-widgets/base",
            "_model_module_version": "1.5.0",
            "_view_count": null,
            "_view_module_version": "1.2.0",
            "bar_color": null,
            "_model_module": "@jupyter-widgets/controls"
          }
        },
        "46bd26911ab44360a8e2300fead8ec17": {
          "model_module": "@jupyter-widgets/base",
          "model_name": "LayoutModel",
          "model_module_version": "1.2.0",
          "state": {
            "_view_name": "LayoutView",
            "grid_template_rows": null,
            "right": null,
            "justify_content": null,
            "_view_module": "@jupyter-widgets/base",
            "overflow": null,
            "_model_module_version": "1.2.0",
            "_view_count": null,
            "flex_flow": null,
            "width": null,
            "min_width": null,
            "border": null,
            "align_items": null,
            "bottom": null,
            "_model_module": "@jupyter-widgets/base",
            "top": null,
            "grid_column": null,
            "overflow_y": null,
            "overflow_x": null,
            "grid_auto_flow": null,
            "grid_area": null,
            "grid_template_columns": null,
            "flex": null,
            "_model_name": "LayoutModel",
            "justify_items": null,
            "grid_row": null,
            "max_height": null,
            "align_content": null,
            "visibility": null,
            "align_self": null,
            "height": null,
            "min_height": null,
            "padding": null,
            "grid_auto_rows": null,
            "grid_gap": null,
            "max_width": null,
            "order": null,
            "_view_module_version": "1.2.0",
            "grid_template_areas": null,
            "object_position": null,
            "object_fit": null,
            "grid_auto_columns": null,
            "margin": null,
            "display": null,
            "left": null
          }
        },
        "11a49fc9e3ae4dcebec0e61ee5c6b27e": {
          "model_module": "@jupyter-widgets/controls",
          "model_name": "DescriptionStyleModel",
          "model_module_version": "1.5.0",
          "state": {
            "_view_name": "StyleView",
            "_model_name": "DescriptionStyleModel",
            "description_width": "",
            "_view_module": "@jupyter-widgets/base",
            "_model_module_version": "1.5.0",
            "_view_count": null,
            "_view_module_version": "1.2.0",
            "_model_module": "@jupyter-widgets/controls"
          }
        },
        "b5ff8f24742b4d3ab333b184ce3af850": {
          "model_module": "@jupyter-widgets/base",
          "model_name": "LayoutModel",
          "model_module_version": "1.2.0",
          "state": {
            "_view_name": "LayoutView",
            "grid_template_rows": null,
            "right": null,
            "justify_content": null,
            "_view_module": "@jupyter-widgets/base",
            "overflow": null,
            "_model_module_version": "1.2.0",
            "_view_count": null,
            "flex_flow": null,
            "width": null,
            "min_width": null,
            "border": null,
            "align_items": null,
            "bottom": null,
            "_model_module": "@jupyter-widgets/base",
            "top": null,
            "grid_column": null,
            "overflow_y": null,
            "overflow_x": null,
            "grid_auto_flow": null,
            "grid_area": null,
            "grid_template_columns": null,
            "flex": null,
            "_model_name": "LayoutModel",
            "justify_items": null,
            "grid_row": null,
            "max_height": null,
            "align_content": null,
            "visibility": null,
            "align_self": null,
            "height": null,
            "min_height": null,
            "padding": null,
            "grid_auto_rows": null,
            "grid_gap": null,
            "max_width": null,
            "order": null,
            "_view_module_version": "1.2.0",
            "grid_template_areas": null,
            "object_position": null,
            "object_fit": null,
            "grid_auto_columns": null,
            "margin": null,
            "display": null,
            "left": null
          }
        },
        "523402855e5c46079a7ac122e56ce294": {
          "model_module": "@jupyter-widgets/controls",
          "model_name": "HBoxModel",
          "model_module_version": "1.5.0",
          "state": {
            "_view_name": "HBoxView",
            "_dom_classes": [],
            "_model_name": "HBoxModel",
            "_view_module": "@jupyter-widgets/controls",
            "_model_module_version": "1.5.0",
            "_view_count": null,
            "_view_module_version": "1.5.0",
            "box_style": "",
            "layout": "IPY_MODEL_fcd49b94b84c48469569274a4c61ff4e",
            "_model_module": "@jupyter-widgets/controls",
            "children": [
              "IPY_MODEL_ea90d620805e40f79ed032b18b15b043",
              "IPY_MODEL_bda1c7b01a6d496588432ba9cad84521",
              "IPY_MODEL_9f18029a75a24e1bb89a61c3f022fe8c"
            ]
          }
        },
        "fcd49b94b84c48469569274a4c61ff4e": {
          "model_module": "@jupyter-widgets/base",
          "model_name": "LayoutModel",
          "model_module_version": "1.2.0",
          "state": {
            "_view_name": "LayoutView",
            "grid_template_rows": null,
            "right": null,
            "justify_content": null,
            "_view_module": "@jupyter-widgets/base",
            "overflow": null,
            "_model_module_version": "1.2.0",
            "_view_count": null,
            "flex_flow": null,
            "width": null,
            "min_width": null,
            "border": null,
            "align_items": null,
            "bottom": null,
            "_model_module": "@jupyter-widgets/base",
            "top": null,
            "grid_column": null,
            "overflow_y": null,
            "overflow_x": null,
            "grid_auto_flow": null,
            "grid_area": null,
            "grid_template_columns": null,
            "flex": null,
            "_model_name": "LayoutModel",
            "justify_items": null,
            "grid_row": null,
            "max_height": null,
            "align_content": null,
            "visibility": null,
            "align_self": null,
            "height": null,
            "min_height": null,
            "padding": null,
            "grid_auto_rows": null,
            "grid_gap": null,
            "max_width": null,
            "order": null,
            "_view_module_version": "1.2.0",
            "grid_template_areas": null,
            "object_position": null,
            "object_fit": null,
            "grid_auto_columns": null,
            "margin": null,
            "display": null,
            "left": null
          }
        },
        "ea90d620805e40f79ed032b18b15b043": {
          "model_module": "@jupyter-widgets/controls",
          "model_name": "HTMLModel",
          "model_module_version": "1.5.0",
          "state": {
            "_view_name": "HTMLView",
            "style": "IPY_MODEL_57a7179072ae42a192cb6395e1dd1af2",
            "_dom_classes": [],
            "description": "",
            "_model_name": "HTMLModel",
            "placeholder": "​",
            "_view_module": "@jupyter-widgets/controls",
            "_model_module_version": "1.5.0",
            "value": "100%",
            "_view_count": null,
            "_view_module_version": "1.5.0",
            "description_tooltip": null,
            "_model_module": "@jupyter-widgets/controls",
            "layout": "IPY_MODEL_55f12e2c6ae04c40925575dd6d6b58af"
          }
        },
        "bda1c7b01a6d496588432ba9cad84521": {
          "model_module": "@jupyter-widgets/controls",
          "model_name": "FloatProgressModel",
          "model_module_version": "1.5.0",
          "state": {
            "_view_name": "ProgressView",
            "style": "IPY_MODEL_06969ae5acd44275af72ce63a6308df1",
            "_dom_classes": [],
            "description": "",
            "_model_name": "FloatProgressModel",
            "bar_style": "success",
            "max": 40,
            "_view_module": "@jupyter-widgets/controls",
            "_model_module_version": "1.5.0",
            "value": 40,
            "_view_count": null,
            "_view_module_version": "1.5.0",
            "orientation": "horizontal",
            "min": 0,
            "description_tooltip": null,
            "_model_module": "@jupyter-widgets/controls",
            "layout": "IPY_MODEL_0e8e03de9b424ae8846ec0d6bb56e79f"
          }
        },
        "9f18029a75a24e1bb89a61c3f022fe8c": {
          "model_module": "@jupyter-widgets/controls",
          "model_name": "HTMLModel",
          "model_module_version": "1.5.0",
          "state": {
            "_view_name": "HTMLView",
            "style": "IPY_MODEL_d979224ddbf347f58ee3805ba9100170",
            "_dom_classes": [],
            "description": "",
            "_model_name": "HTMLModel",
            "placeholder": "​",
            "_view_module": "@jupyter-widgets/controls",
            "_model_module_version": "1.5.0",
            "value": " 40/40 [00:01&lt;00:00, 34.55it/s]",
            "_view_count": null,
            "_view_module_version": "1.5.0",
            "description_tooltip": null,
            "_model_module": "@jupyter-widgets/controls",
            "layout": "IPY_MODEL_70d4e6b07a324f26b5d60f8a3ab2d6d8"
          }
        },
        "57a7179072ae42a192cb6395e1dd1af2": {
          "model_module": "@jupyter-widgets/controls",
          "model_name": "DescriptionStyleModel",
          "model_module_version": "1.5.0",
          "state": {
            "_view_name": "StyleView",
            "_model_name": "DescriptionStyleModel",
            "description_width": "",
            "_view_module": "@jupyter-widgets/base",
            "_model_module_version": "1.5.0",
            "_view_count": null,
            "_view_module_version": "1.2.0",
            "_model_module": "@jupyter-widgets/controls"
          }
        },
        "55f12e2c6ae04c40925575dd6d6b58af": {
          "model_module": "@jupyter-widgets/base",
          "model_name": "LayoutModel",
          "model_module_version": "1.2.0",
          "state": {
            "_view_name": "LayoutView",
            "grid_template_rows": null,
            "right": null,
            "justify_content": null,
            "_view_module": "@jupyter-widgets/base",
            "overflow": null,
            "_model_module_version": "1.2.0",
            "_view_count": null,
            "flex_flow": null,
            "width": null,
            "min_width": null,
            "border": null,
            "align_items": null,
            "bottom": null,
            "_model_module": "@jupyter-widgets/base",
            "top": null,
            "grid_column": null,
            "overflow_y": null,
            "overflow_x": null,
            "grid_auto_flow": null,
            "grid_area": null,
            "grid_template_columns": null,
            "flex": null,
            "_model_name": "LayoutModel",
            "justify_items": null,
            "grid_row": null,
            "max_height": null,
            "align_content": null,
            "visibility": null,
            "align_self": null,
            "height": null,
            "min_height": null,
            "padding": null,
            "grid_auto_rows": null,
            "grid_gap": null,
            "max_width": null,
            "order": null,
            "_view_module_version": "1.2.0",
            "grid_template_areas": null,
            "object_position": null,
            "object_fit": null,
            "grid_auto_columns": null,
            "margin": null,
            "display": null,
            "left": null
          }
        },
        "06969ae5acd44275af72ce63a6308df1": {
          "model_module": "@jupyter-widgets/controls",
          "model_name": "ProgressStyleModel",
          "model_module_version": "1.5.0",
          "state": {
            "_view_name": "StyleView",
            "_model_name": "ProgressStyleModel",
            "description_width": "",
            "_view_module": "@jupyter-widgets/base",
            "_model_module_version": "1.5.0",
            "_view_count": null,
            "_view_module_version": "1.2.0",
            "bar_color": null,
            "_model_module": "@jupyter-widgets/controls"
          }
        },
        "0e8e03de9b424ae8846ec0d6bb56e79f": {
          "model_module": "@jupyter-widgets/base",
          "model_name": "LayoutModel",
          "model_module_version": "1.2.0",
          "state": {
            "_view_name": "LayoutView",
            "grid_template_rows": null,
            "right": null,
            "justify_content": null,
            "_view_module": "@jupyter-widgets/base",
            "overflow": null,
            "_model_module_version": "1.2.0",
            "_view_count": null,
            "flex_flow": null,
            "width": null,
            "min_width": null,
            "border": null,
            "align_items": null,
            "bottom": null,
            "_model_module": "@jupyter-widgets/base",
            "top": null,
            "grid_column": null,
            "overflow_y": null,
            "overflow_x": null,
            "grid_auto_flow": null,
            "grid_area": null,
            "grid_template_columns": null,
            "flex": null,
            "_model_name": "LayoutModel",
            "justify_items": null,
            "grid_row": null,
            "max_height": null,
            "align_content": null,
            "visibility": null,
            "align_self": null,
            "height": null,
            "min_height": null,
            "padding": null,
            "grid_auto_rows": null,
            "grid_gap": null,
            "max_width": null,
            "order": null,
            "_view_module_version": "1.2.0",
            "grid_template_areas": null,
            "object_position": null,
            "object_fit": null,
            "grid_auto_columns": null,
            "margin": null,
            "display": null,
            "left": null
          }
        },
        "d979224ddbf347f58ee3805ba9100170": {
          "model_module": "@jupyter-widgets/controls",
          "model_name": "DescriptionStyleModel",
          "model_module_version": "1.5.0",
          "state": {
            "_view_name": "StyleView",
            "_model_name": "DescriptionStyleModel",
            "description_width": "",
            "_view_module": "@jupyter-widgets/base",
            "_model_module_version": "1.5.0",
            "_view_count": null,
            "_view_module_version": "1.2.0",
            "_model_module": "@jupyter-widgets/controls"
          }
        },
        "70d4e6b07a324f26b5d60f8a3ab2d6d8": {
          "model_module": "@jupyter-widgets/base",
          "model_name": "LayoutModel",
          "model_module_version": "1.2.0",
          "state": {
            "_view_name": "LayoutView",
            "grid_template_rows": null,
            "right": null,
            "justify_content": null,
            "_view_module": "@jupyter-widgets/base",
            "overflow": null,
            "_model_module_version": "1.2.0",
            "_view_count": null,
            "flex_flow": null,
            "width": null,
            "min_width": null,
            "border": null,
            "align_items": null,
            "bottom": null,
            "_model_module": "@jupyter-widgets/base",
            "top": null,
            "grid_column": null,
            "overflow_y": null,
            "overflow_x": null,
            "grid_auto_flow": null,
            "grid_area": null,
            "grid_template_columns": null,
            "flex": null,
            "_model_name": "LayoutModel",
            "justify_items": null,
            "grid_row": null,
            "max_height": null,
            "align_content": null,
            "visibility": null,
            "align_self": null,
            "height": null,
            "min_height": null,
            "padding": null,
            "grid_auto_rows": null,
            "grid_gap": null,
            "max_width": null,
            "order": null,
            "_view_module_version": "1.2.0",
            "grid_template_areas": null,
            "object_position": null,
            "object_fit": null,
            "grid_auto_columns": null,
            "margin": null,
            "display": null,
            "left": null
          }
        },
        "b2acd85958c748139f650938c89930ed": {
          "model_module": "@jupyter-widgets/controls",
          "model_name": "HBoxModel",
          "model_module_version": "1.5.0",
          "state": {
            "_view_name": "HBoxView",
            "_dom_classes": [],
            "_model_name": "HBoxModel",
            "_view_module": "@jupyter-widgets/controls",
            "_model_module_version": "1.5.0",
            "_view_count": null,
            "_view_module_version": "1.5.0",
            "box_style": "",
            "layout": "IPY_MODEL_a258ef7ba63b4320b4128fb100816dd4",
            "_model_module": "@jupyter-widgets/controls",
            "children": [
              "IPY_MODEL_83d4c7c6aed44db9b80baa6c6432ce7c",
              "IPY_MODEL_d4aaa13b8e4445b9a7347e9e04ae6b8f",
              "IPY_MODEL_2d387abc285d4e00b98ed515bc2d1f06"
            ]
          }
        },
        "a258ef7ba63b4320b4128fb100816dd4": {
          "model_module": "@jupyter-widgets/base",
          "model_name": "LayoutModel",
          "model_module_version": "1.2.0",
          "state": {
            "_view_name": "LayoutView",
            "grid_template_rows": null,
            "right": null,
            "justify_content": null,
            "_view_module": "@jupyter-widgets/base",
            "overflow": null,
            "_model_module_version": "1.2.0",
            "_view_count": null,
            "flex_flow": null,
            "width": null,
            "min_width": null,
            "border": null,
            "align_items": null,
            "bottom": null,
            "_model_module": "@jupyter-widgets/base",
            "top": null,
            "grid_column": null,
            "overflow_y": null,
            "overflow_x": null,
            "grid_auto_flow": null,
            "grid_area": null,
            "grid_template_columns": null,
            "flex": null,
            "_model_name": "LayoutModel",
            "justify_items": null,
            "grid_row": null,
            "max_height": null,
            "align_content": null,
            "visibility": null,
            "align_self": null,
            "height": null,
            "min_height": null,
            "padding": null,
            "grid_auto_rows": null,
            "grid_gap": null,
            "max_width": null,
            "order": null,
            "_view_module_version": "1.2.0",
            "grid_template_areas": null,
            "object_position": null,
            "object_fit": null,
            "grid_auto_columns": null,
            "margin": null,
            "display": null,
            "left": null
          }
        },
        "83d4c7c6aed44db9b80baa6c6432ce7c": {
          "model_module": "@jupyter-widgets/controls",
          "model_name": "HTMLModel",
          "model_module_version": "1.5.0",
          "state": {
            "_view_name": "HTMLView",
            "style": "IPY_MODEL_83583c1e696147e1810570380b2ce240",
            "_dom_classes": [],
            "description": "",
            "_model_name": "HTMLModel",
            "placeholder": "​",
            "_view_module": "@jupyter-widgets/controls",
            "_model_module_version": "1.5.0",
            "value": "",
            "_view_count": null,
            "_view_module_version": "1.5.0",
            "description_tooltip": null,
            "_model_module": "@jupyter-widgets/controls",
            "layout": "IPY_MODEL_aed43ae7908146dcbd5e6b1f031abefc"
          }
        },
        "d4aaa13b8e4445b9a7347e9e04ae6b8f": {
          "model_module": "@jupyter-widgets/controls",
          "model_name": "FloatProgressModel",
          "model_module_version": "1.5.0",
          "state": {
            "_view_name": "ProgressView",
            "style": "IPY_MODEL_863ecd346e3e452cba7784d8fdcb5033",
            "_dom_classes": [],
            "description": "",
            "_model_name": "FloatProgressModel",
            "bar_style": "success",
            "max": 1,
            "_view_module": "@jupyter-widgets/controls",
            "_model_module_version": "1.5.0",
            "value": 1,
            "_view_count": null,
            "_view_module_version": "1.5.0",
            "orientation": "horizontal",
            "min": 0,
            "description_tooltip": null,
            "_model_module": "@jupyter-widgets/controls",
            "layout": "IPY_MODEL_92157fb4be1741b3b8bddb2e7462512f"
          }
        },
        "2d387abc285d4e00b98ed515bc2d1f06": {
          "model_module": "@jupyter-widgets/controls",
          "model_name": "HTMLModel",
          "model_module_version": "1.5.0",
          "state": {
            "_view_name": "HTMLView",
            "style": "IPY_MODEL_7ffc048041974a05a805fa5b6a581a4b",
            "_dom_classes": [],
            "description": "",
            "_model_name": "HTMLModel",
            "placeholder": "​",
            "_view_module": "@jupyter-widgets/controls",
            "_model_module_version": "1.5.0",
            "value": " 160/? [00:01&lt;00:00, 125.71it/s]",
            "_view_count": null,
            "_view_module_version": "1.5.0",
            "description_tooltip": null,
            "_model_module": "@jupyter-widgets/controls",
            "layout": "IPY_MODEL_43507e019c114105a85fb9561ce63fff"
          }
        },
        "83583c1e696147e1810570380b2ce240": {
          "model_module": "@jupyter-widgets/controls",
          "model_name": "DescriptionStyleModel",
          "model_module_version": "1.5.0",
          "state": {
            "_view_name": "StyleView",
            "_model_name": "DescriptionStyleModel",
            "description_width": "",
            "_view_module": "@jupyter-widgets/base",
            "_model_module_version": "1.5.0",
            "_view_count": null,
            "_view_module_version": "1.2.0",
            "_model_module": "@jupyter-widgets/controls"
          }
        },
        "aed43ae7908146dcbd5e6b1f031abefc": {
          "model_module": "@jupyter-widgets/base",
          "model_name": "LayoutModel",
          "model_module_version": "1.2.0",
          "state": {
            "_view_name": "LayoutView",
            "grid_template_rows": null,
            "right": null,
            "justify_content": null,
            "_view_module": "@jupyter-widgets/base",
            "overflow": null,
            "_model_module_version": "1.2.0",
            "_view_count": null,
            "flex_flow": null,
            "width": null,
            "min_width": null,
            "border": null,
            "align_items": null,
            "bottom": null,
            "_model_module": "@jupyter-widgets/base",
            "top": null,
            "grid_column": null,
            "overflow_y": null,
            "overflow_x": null,
            "grid_auto_flow": null,
            "grid_area": null,
            "grid_template_columns": null,
            "flex": null,
            "_model_name": "LayoutModel",
            "justify_items": null,
            "grid_row": null,
            "max_height": null,
            "align_content": null,
            "visibility": null,
            "align_self": null,
            "height": null,
            "min_height": null,
            "padding": null,
            "grid_auto_rows": null,
            "grid_gap": null,
            "max_width": null,
            "order": null,
            "_view_module_version": "1.2.0",
            "grid_template_areas": null,
            "object_position": null,
            "object_fit": null,
            "grid_auto_columns": null,
            "margin": null,
            "display": null,
            "left": null
          }
        },
        "863ecd346e3e452cba7784d8fdcb5033": {
          "model_module": "@jupyter-widgets/controls",
          "model_name": "ProgressStyleModel",
          "model_module_version": "1.5.0",
          "state": {
            "_view_name": "StyleView",
            "_model_name": "ProgressStyleModel",
            "description_width": "",
            "_view_module": "@jupyter-widgets/base",
            "_model_module_version": "1.5.0",
            "_view_count": null,
            "_view_module_version": "1.2.0",
            "bar_color": null,
            "_model_module": "@jupyter-widgets/controls"
          }
        },
        "92157fb4be1741b3b8bddb2e7462512f": {
          "model_module": "@jupyter-widgets/base",
          "model_name": "LayoutModel",
          "model_module_version": "1.2.0",
          "state": {
            "_view_name": "LayoutView",
            "grid_template_rows": null,
            "right": null,
            "justify_content": null,
            "_view_module": "@jupyter-widgets/base",
            "overflow": null,
            "_model_module_version": "1.2.0",
            "_view_count": null,
            "flex_flow": null,
            "width": "20px",
            "min_width": null,
            "border": null,
            "align_items": null,
            "bottom": null,
            "_model_module": "@jupyter-widgets/base",
            "top": null,
            "grid_column": null,
            "overflow_y": null,
            "overflow_x": null,
            "grid_auto_flow": null,
            "grid_area": null,
            "grid_template_columns": null,
            "flex": null,
            "_model_name": "LayoutModel",
            "justify_items": null,
            "grid_row": null,
            "max_height": null,
            "align_content": null,
            "visibility": null,
            "align_self": null,
            "height": null,
            "min_height": null,
            "padding": null,
            "grid_auto_rows": null,
            "grid_gap": null,
            "max_width": null,
            "order": null,
            "_view_module_version": "1.2.0",
            "grid_template_areas": null,
            "object_position": null,
            "object_fit": null,
            "grid_auto_columns": null,
            "margin": null,
            "display": null,
            "left": null
          }
        },
        "7ffc048041974a05a805fa5b6a581a4b": {
          "model_module": "@jupyter-widgets/controls",
          "model_name": "DescriptionStyleModel",
          "model_module_version": "1.5.0",
          "state": {
            "_view_name": "StyleView",
            "_model_name": "DescriptionStyleModel",
            "description_width": "",
            "_view_module": "@jupyter-widgets/base",
            "_model_module_version": "1.5.0",
            "_view_count": null,
            "_view_module_version": "1.2.0",
            "_model_module": "@jupyter-widgets/controls"
          }
        },
        "43507e019c114105a85fb9561ce63fff": {
          "model_module": "@jupyter-widgets/base",
          "model_name": "LayoutModel",
          "model_module_version": "1.2.0",
          "state": {
            "_view_name": "LayoutView",
            "grid_template_rows": null,
            "right": null,
            "justify_content": null,
            "_view_module": "@jupyter-widgets/base",
            "overflow": null,
            "_model_module_version": "1.2.0",
            "_view_count": null,
            "flex_flow": null,
            "width": null,
            "min_width": null,
            "border": null,
            "align_items": null,
            "bottom": null,
            "_model_module": "@jupyter-widgets/base",
            "top": null,
            "grid_column": null,
            "overflow_y": null,
            "overflow_x": null,
            "grid_auto_flow": null,
            "grid_area": null,
            "grid_template_columns": null,
            "flex": null,
            "_model_name": "LayoutModel",
            "justify_items": null,
            "grid_row": null,
            "max_height": null,
            "align_content": null,
            "visibility": null,
            "align_self": null,
            "height": null,
            "min_height": null,
            "padding": null,
            "grid_auto_rows": null,
            "grid_gap": null,
            "max_width": null,
            "order": null,
            "_view_module_version": "1.2.0",
            "grid_template_areas": null,
            "object_position": null,
            "object_fit": null,
            "grid_auto_columns": null,
            "margin": null,
            "display": null,
            "left": null
          }
        },
        "7d405dfdc4684f91a97aa703be39a690": {
          "model_module": "@jupyter-widgets/controls",
          "model_name": "HBoxModel",
          "model_module_version": "1.5.0",
          "state": {
            "_view_name": "HBoxView",
            "_dom_classes": [],
            "_model_name": "HBoxModel",
            "_view_module": "@jupyter-widgets/controls",
            "_model_module_version": "1.5.0",
            "_view_count": null,
            "_view_module_version": "1.5.0",
            "box_style": "",
            "layout": "IPY_MODEL_534e380d8f084ada8f2d0fde809579b6",
            "_model_module": "@jupyter-widgets/controls",
            "children": [
              "IPY_MODEL_fd3c086681634f2c9f2005c1bab37c3c",
              "IPY_MODEL_ac411bb5d42e4da3a2425b071e0ce6cc",
              "IPY_MODEL_0dd36cdb2e33471aad547d8423e0d491"
            ]
          }
        },
        "534e380d8f084ada8f2d0fde809579b6": {
          "model_module": "@jupyter-widgets/base",
          "model_name": "LayoutModel",
          "model_module_version": "1.2.0",
          "state": {
            "_view_name": "LayoutView",
            "grid_template_rows": null,
            "right": null,
            "justify_content": null,
            "_view_module": "@jupyter-widgets/base",
            "overflow": null,
            "_model_module_version": "1.2.0",
            "_view_count": null,
            "flex_flow": null,
            "width": null,
            "min_width": null,
            "border": null,
            "align_items": null,
            "bottom": null,
            "_model_module": "@jupyter-widgets/base",
            "top": null,
            "grid_column": null,
            "overflow_y": null,
            "overflow_x": null,
            "grid_auto_flow": null,
            "grid_area": null,
            "grid_template_columns": null,
            "flex": null,
            "_model_name": "LayoutModel",
            "justify_items": null,
            "grid_row": null,
            "max_height": null,
            "align_content": null,
            "visibility": null,
            "align_self": null,
            "height": null,
            "min_height": null,
            "padding": null,
            "grid_auto_rows": null,
            "grid_gap": null,
            "max_width": null,
            "order": null,
            "_view_module_version": "1.2.0",
            "grid_template_areas": null,
            "object_position": null,
            "object_fit": null,
            "grid_auto_columns": null,
            "margin": null,
            "display": null,
            "left": null
          }
        },
        "fd3c086681634f2c9f2005c1bab37c3c": {
          "model_module": "@jupyter-widgets/controls",
          "model_name": "HTMLModel",
          "model_module_version": "1.5.0",
          "state": {
            "_view_name": "HTMLView",
            "style": "IPY_MODEL_c4d6ca17cf604be8bf1a2071a8a50437",
            "_dom_classes": [],
            "description": "",
            "_model_name": "HTMLModel",
            "placeholder": "​",
            "_view_module": "@jupyter-widgets/controls",
            "_model_module_version": "1.5.0",
            "value": "",
            "_view_count": null,
            "_view_module_version": "1.5.0",
            "description_tooltip": null,
            "_model_module": "@jupyter-widgets/controls",
            "layout": "IPY_MODEL_355e82bc39a444a29a037fcc2b92475d"
          }
        },
        "ac411bb5d42e4da3a2425b071e0ce6cc": {
          "model_module": "@jupyter-widgets/controls",
          "model_name": "FloatProgressModel",
          "model_module_version": "1.5.0",
          "state": {
            "_view_name": "ProgressView",
            "style": "IPY_MODEL_69994e80eca9476299cdcee51500a4ad",
            "_dom_classes": [],
            "description": "",
            "_model_name": "FloatProgressModel",
            "bar_style": "success",
            "max": 1,
            "_view_module": "@jupyter-widgets/controls",
            "_model_module_version": "1.5.0",
            "value": 1,
            "_view_count": null,
            "_view_module_version": "1.5.0",
            "orientation": "horizontal",
            "min": 0,
            "description_tooltip": null,
            "_model_module": "@jupyter-widgets/controls",
            "layout": "IPY_MODEL_aa842e7cb993475994b1ddf9b81b6099"
          }
        },
        "0dd36cdb2e33471aad547d8423e0d491": {
          "model_module": "@jupyter-widgets/controls",
          "model_name": "HTMLModel",
          "model_module_version": "1.5.0",
          "state": {
            "_view_name": "HTMLView",
            "style": "IPY_MODEL_3961724a88514375828aa7368ff080d8",
            "_dom_classes": [],
            "description": "",
            "_model_name": "HTMLModel",
            "placeholder": "​",
            "_view_module": "@jupyter-widgets/controls",
            "_model_module_version": "1.5.0",
            "value": " 40/? [00:00&lt;00:00, 113.95it/s]",
            "_view_count": null,
            "_view_module_version": "1.5.0",
            "description_tooltip": null,
            "_model_module": "@jupyter-widgets/controls",
            "layout": "IPY_MODEL_4e21cceb7b6e42cf81123032ed0b809f"
          }
        },
        "c4d6ca17cf604be8bf1a2071a8a50437": {
          "model_module": "@jupyter-widgets/controls",
          "model_name": "DescriptionStyleModel",
          "model_module_version": "1.5.0",
          "state": {
            "_view_name": "StyleView",
            "_model_name": "DescriptionStyleModel",
            "description_width": "",
            "_view_module": "@jupyter-widgets/base",
            "_model_module_version": "1.5.0",
            "_view_count": null,
            "_view_module_version": "1.2.0",
            "_model_module": "@jupyter-widgets/controls"
          }
        },
        "355e82bc39a444a29a037fcc2b92475d": {
          "model_module": "@jupyter-widgets/base",
          "model_name": "LayoutModel",
          "model_module_version": "1.2.0",
          "state": {
            "_view_name": "LayoutView",
            "grid_template_rows": null,
            "right": null,
            "justify_content": null,
            "_view_module": "@jupyter-widgets/base",
            "overflow": null,
            "_model_module_version": "1.2.0",
            "_view_count": null,
            "flex_flow": null,
            "width": null,
            "min_width": null,
            "border": null,
            "align_items": null,
            "bottom": null,
            "_model_module": "@jupyter-widgets/base",
            "top": null,
            "grid_column": null,
            "overflow_y": null,
            "overflow_x": null,
            "grid_auto_flow": null,
            "grid_area": null,
            "grid_template_columns": null,
            "flex": null,
            "_model_name": "LayoutModel",
            "justify_items": null,
            "grid_row": null,
            "max_height": null,
            "align_content": null,
            "visibility": null,
            "align_self": null,
            "height": null,
            "min_height": null,
            "padding": null,
            "grid_auto_rows": null,
            "grid_gap": null,
            "max_width": null,
            "order": null,
            "_view_module_version": "1.2.0",
            "grid_template_areas": null,
            "object_position": null,
            "object_fit": null,
            "grid_auto_columns": null,
            "margin": null,
            "display": null,
            "left": null
          }
        },
        "69994e80eca9476299cdcee51500a4ad": {
          "model_module": "@jupyter-widgets/controls",
          "model_name": "ProgressStyleModel",
          "model_module_version": "1.5.0",
          "state": {
            "_view_name": "StyleView",
            "_model_name": "ProgressStyleModel",
            "description_width": "",
            "_view_module": "@jupyter-widgets/base",
            "_model_module_version": "1.5.0",
            "_view_count": null,
            "_view_module_version": "1.2.0",
            "bar_color": null,
            "_model_module": "@jupyter-widgets/controls"
          }
        },
        "aa842e7cb993475994b1ddf9b81b6099": {
          "model_module": "@jupyter-widgets/base",
          "model_name": "LayoutModel",
          "model_module_version": "1.2.0",
          "state": {
            "_view_name": "LayoutView",
            "grid_template_rows": null,
            "right": null,
            "justify_content": null,
            "_view_module": "@jupyter-widgets/base",
            "overflow": null,
            "_model_module_version": "1.2.0",
            "_view_count": null,
            "flex_flow": null,
            "width": "20px",
            "min_width": null,
            "border": null,
            "align_items": null,
            "bottom": null,
            "_model_module": "@jupyter-widgets/base",
            "top": null,
            "grid_column": null,
            "overflow_y": null,
            "overflow_x": null,
            "grid_auto_flow": null,
            "grid_area": null,
            "grid_template_columns": null,
            "flex": null,
            "_model_name": "LayoutModel",
            "justify_items": null,
            "grid_row": null,
            "max_height": null,
            "align_content": null,
            "visibility": null,
            "align_self": null,
            "height": null,
            "min_height": null,
            "padding": null,
            "grid_auto_rows": null,
            "grid_gap": null,
            "max_width": null,
            "order": null,
            "_view_module_version": "1.2.0",
            "grid_template_areas": null,
            "object_position": null,
            "object_fit": null,
            "grid_auto_columns": null,
            "margin": null,
            "display": null,
            "left": null
          }
        },
        "3961724a88514375828aa7368ff080d8": {
          "model_module": "@jupyter-widgets/controls",
          "model_name": "DescriptionStyleModel",
          "model_module_version": "1.5.0",
          "state": {
            "_view_name": "StyleView",
            "_model_name": "DescriptionStyleModel",
            "description_width": "",
            "_view_module": "@jupyter-widgets/base",
            "_model_module_version": "1.5.0",
            "_view_count": null,
            "_view_module_version": "1.2.0",
            "_model_module": "@jupyter-widgets/controls"
          }
        },
        "4e21cceb7b6e42cf81123032ed0b809f": {
          "model_module": "@jupyter-widgets/base",
          "model_name": "LayoutModel",
          "model_module_version": "1.2.0",
          "state": {
            "_view_name": "LayoutView",
            "grid_template_rows": null,
            "right": null,
            "justify_content": null,
            "_view_module": "@jupyter-widgets/base",
            "overflow": null,
            "_model_module_version": "1.2.0",
            "_view_count": null,
            "flex_flow": null,
            "width": null,
            "min_width": null,
            "border": null,
            "align_items": null,
            "bottom": null,
            "_model_module": "@jupyter-widgets/base",
            "top": null,
            "grid_column": null,
            "overflow_y": null,
            "overflow_x": null,
            "grid_auto_flow": null,
            "grid_area": null,
            "grid_template_columns": null,
            "flex": null,
            "_model_name": "LayoutModel",
            "justify_items": null,
            "grid_row": null,
            "max_height": null,
            "align_content": null,
            "visibility": null,
            "align_self": null,
            "height": null,
            "min_height": null,
            "padding": null,
            "grid_auto_rows": null,
            "grid_gap": null,
            "max_width": null,
            "order": null,
            "_view_module_version": "1.2.0",
            "grid_template_areas": null,
            "object_position": null,
            "object_fit": null,
            "grid_auto_columns": null,
            "margin": null,
            "display": null,
            "left": null
          }
        }
      }
    }
  },
  "cells": [
    {
      "cell_type": "markdown",
      "source": [
        "# Installing required packages"
      ],
      "metadata": {
        "id": "RGp9y3e4WTD3"
      }
    },
    {
      "cell_type": "code",
      "execution_count": null,
      "metadata": {
        "colab": {
          "base_uri": "https://localhost:8080/"
        },
        "id": "sNnxDXXHUlbE",
        "outputId": "572f77c8-dd03-487d-f736-ae1fe192682c"
      },
      "outputs": [
        {
          "output_type": "stream",
          "name": "stdout",
          "text": [
            "Collecting wget\n",
            "  Downloading wget-3.2.zip (10 kB)\n",
            "Building wheels for collected packages: wget\n",
            "  Building wheel for wget (setup.py) ... \u001b[?25l\u001b[?25hdone\n",
            "  Created wheel for wget: filename=wget-3.2-py3-none-any.whl size=9672 sha256=f5ca9fdfd1e879de782fe9d92e8d6e01862566c7f4a963893a98e68d57f60dcb\n",
            "  Stored in directory: /root/.cache/pip/wheels/a1/b6/7c/0e63e34eb06634181c63adacca38b79ff8f35c37e3c13e3c02\n",
            "Successfully built wget\n",
            "Installing collected packages: wget\n",
            "Successfully installed wget-3.2\n"
          ]
        }
      ],
      "source": [
        "!pip install wget"
      ]
    },
    {
      "cell_type": "markdown",
      "source": [
        "# Importing requried packages"
      ],
      "metadata": {
        "id": "NwUlM_ipWWqO"
      }
    },
    {
      "cell_type": "code",
      "source": [
        "import cv2\n",
        "import numpy as np\n",
        "import wget\n",
        "import bz2\n",
        "\n",
        "from glob import glob\n",
        "from sklearn.model_selection import train_test_split\n",
        "from sklearn.metrics import classification_report, confusion_matrix\n",
        "from sklearn.linear_model import LogisticRegression\n",
        "from tqdm.auto import tqdm"
      ],
      "metadata": {
        "id": "uQV3O_EAU9EQ"
      },
      "execution_count": null,
      "outputs": []
    },
    {
      "cell_type": "markdown",
      "source": [
        "## Download the zip files"
      ],
      "metadata": {
        "id": "RhTBPcPUYoRV"
      }
    },
    {
      "cell_type": "code",
      "source": [
        "train_zip = wget.download('https://github.com/jeffreywolberg/sudoku_dataset/blob/master/datasets/v2_train.tar.bz2?raw=true')\n",
        "test_zip = wget.download('https://github.com/jeffreywolberg/sudoku_dataset/blob/master/datasets/v2_test.tar.bz2?raw=true')\n",
        "csv_data = wget.download('https://raw.githubusercontent.com/jeffreywolberg/sudoku_dataset/master/outlines_sorted.csv')"
      ],
      "metadata": {
        "id": "AYLwACcFWzC4"
      },
      "execution_count": null,
      "outputs": []
    },
    {
      "cell_type": "markdown",
      "source": [
        "## Extract and move the zip files to Data folder"
      ],
      "metadata": {
        "id": "ZRhVBLYeYrqc"
      }
    },
    {
      "cell_type": "code",
      "source": [
        "!if [ -d '/content/Data/' ]; then rm -rf /content/Data else ; fi\n",
        "!mkdir Data \n",
        "!tar -xf /content/v2_train.tar.bz2 -C /content/Data/ && rm -rf /content/v2_train.tar.bz2\n",
        "!tar -xf /content/v2_test.tar.bz2 -C /content/Data/  && rm -rf /content/v2_test.tar.bz2\n",
        "!mv outlines_sorted.csv /content/Data"
      ],
      "metadata": {
        "id": "kOI6OSHCXV-d"
      },
      "execution_count": null,
      "outputs": []
    },
    {
      "cell_type": "markdown",
      "source": [
        "# Helper Functions"
      ],
      "metadata": {
        "id": "hdvkPmNqc8Bo"
      }
    },
    {
      "cell_type": "code",
      "source": [
        "def largest4SideContour(image):\n",
        "    contours, h = cv2.findContours(\n",
        "        image, cv2.RETR_TREE, cv2.CHAIN_APPROX_SIMPLE)\n",
        "\n",
        "    # Sorting contours in descending order based on the area\n",
        "    contours = sorted(contours, key=cv2.contourArea, reverse=True)\n",
        "\n",
        "    # Looking at top 5 contours and checking if any of them are of size 4\n",
        "    for cnt in contours[:min(5, len(contours))]:\n",
        "        if len(approx(cnt)) == 4:\n",
        "            return cnt\n",
        "    return None\n",
        "\n",
        "\n",
        "def approx(cnt):\n",
        "    try:\n",
        "        peri = cv2.arcLength(cnt, True)\n",
        "        app = cv2.approxPolyDP(cnt, 0.01 * peri, True)\n",
        "        return app\n",
        "    except:\n",
        "        return None\n",
        "\n",
        "\n",
        "def get_rectangle_corners(cnt):\n",
        "    pts = cnt.reshape(4, 2)\n",
        "    rect = np.zeros((4, 2), dtype=\"float32\")\n",
        "\n",
        "    # the top-left point has the smallest sum whereas the\n",
        "    # bottom-right has the largest sum\n",
        "    s = pts.sum(axis=1)\n",
        "    rect[0] = pts[np.argmin(s)]\n",
        "    rect[2] = pts[np.argmax(s)]\n",
        "\n",
        "    # compute the difference between the points -- the top-right\n",
        "    # will have the minumum difference and the bottom-left will\n",
        "    # have the maximum difference\n",
        "    diff = np.diff(pts, axis=1)\n",
        "    rect[1] = pts[np.argmin(diff)]\n",
        "    rect[3] = pts[np.argmax(diff)]\n",
        "    return rect\n",
        "\n",
        "\n",
        "def warp_perspective(rect, grid):\n",
        "    (tl, tr, br, bl) = rect\n",
        "    widthA = np.sqrt(((br[0] - bl[0]) ** 2) + ((br[1] - bl[1]) ** 2))\n",
        "    widthB = np.sqrt(((tr[0] - tl[0]) ** 2) + ((tr[1] - tl[1]) ** 2))\n",
        "\n",
        "    # ...and now for the height of our new image\n",
        "    heightA = np.sqrt(((tr[0] - br[0]) ** 2) + ((tr[1] - br[1]) ** 2))\n",
        "    heightB = np.sqrt(((tl[0] - bl[0]) ** 2) + ((tl[1] - bl[1]) ** 2))\n",
        "\n",
        "    # take the maximum of the width and height values to reach\n",
        "    # our final dimensions\n",
        "    maxWidth = max(int(widthA), int(widthB))\n",
        "    maxHeight = max(int(heightA), int(heightB))\n",
        "\n",
        "    # construct our destination points which will be used to\n",
        "    # map the screen to a top-down, \"birds eye\" view\n",
        "    dst = np.array([\n",
        "        [0, 0],\n",
        "        [maxWidth - 1, 0],\n",
        "        [maxWidth - 1, maxHeight - 1],\n",
        "        [0, maxHeight - 1]], dtype=\"float32\")\n",
        "\n",
        "    # calculate the perspective transform matrix and warp\n",
        "    # the perspective to grab the screen\n",
        "    M = cv2.getPerspectiveTransform(rect, dst)\n",
        "    warp = cv2.warpPerspective(grid, M, (maxWidth, maxHeight))\n",
        "    return cv2.resize(warp, (288, 288))\n",
        "\n",
        "\n",
        "def getTopLine(image):\n",
        "    for i, row in enumerate(image):\n",
        "        if np.any(row):\n",
        "            return i\n",
        "    return None\n",
        "\n",
        "\n",
        "def getBottomLine(image):\n",
        "    for i in range(image.shape[0] - 1, -1, -1):\n",
        "        if np.any(image[i]):\n",
        "            return i\n",
        "    return None\n",
        "\n",
        "\n",
        "def getLeftLine(image):\n",
        "    for i in range(image.shape[1]):\n",
        "        if np.any(image[:, i]):\n",
        "            return i\n",
        "    return None\n",
        "\n",
        "\n",
        "def getRightLine(image):\n",
        "    for i in range(image.shape[1] - 1, -1, -1):\n",
        "        if np.any(image[:, i]):\n",
        "            return i\n",
        "    return None\n",
        "\n",
        "\n",
        "def rowShift(image, start, end, length):\n",
        "    shifted = np.zeros(image.shape)\n",
        "    if start + length < 0:\n",
        "        length = -start\n",
        "    elif end + length >= image.shape[0]:\n",
        "        length = image.shape[0] - 1 - end\n",
        "\n",
        "    for row in range(start, end + 1):\n",
        "        shifted[row + length] = image[row]\n",
        "    return shifted\n",
        "\n",
        "\n",
        "def colShift(image, start, end, length):\n",
        "    shifted = np.zeros(image.shape)\n",
        "    if start + length < 0:\n",
        "        length = -start\n",
        "    elif end + length >= image.shape[1]:\n",
        "        length = image.shape[1] - 1 - end\n",
        "\n",
        "    for col in range(start, end + 1):\n",
        "        shifted[:, col + length] = image[:, col]\n",
        "    return shifted\n",
        "\n",
        "\n",
        "def centerX(digit):\n",
        "    topLine = getTopLine(digit)\n",
        "    bottomLine = getBottomLine(digit)\n",
        "    if topLine is None or bottomLine is None:\n",
        "        return digit\n",
        "    centerLine = (topLine + bottomLine) >> 1\n",
        "    imageCenter = digit.shape[0] >> 1\n",
        "    digit = rowShift(\n",
        "        digit, start=topLine, end=bottomLine, length=imageCenter - centerLine)\n",
        "    return digit\n",
        "\n",
        "\n",
        "def centerY(digit):\n",
        "    leftLine = getLeftLine(digit)\n",
        "    rightLine = getRightLine(digit)\n",
        "    if leftLine is None or rightLine is None:\n",
        "        return digit\n",
        "    centerLine = (leftLine + rightLine) >> 1\n",
        "    imageCenter = digit.shape[1] >> 1\n",
        "    digit = colShift(\n",
        "        digit, start=leftLine, end=rightLine, length=imageCenter - centerLine)\n",
        "    return digit"
      ],
      "metadata": {
        "id": "Dog7DWcQdBfk"
      },
      "execution_count": null,
      "outputs": []
    },
    {
      "cell_type": "markdown",
      "source": [
        "# More Helper Functions!"
      ],
      "metadata": {
        "id": "LRscIR-uciUQ"
      }
    },
    {
      "cell_type": "code",
      "source": [
        "def process_image(path: str):\n",
        "    # Load image\n",
        "    try:\n",
        "        img = cv2.imread(path)\n",
        "\n",
        "        img = cv2.cvtColor(img, cv2.COLOR_BGR2GRAY)\n",
        "        img = cv2.adaptiveThreshold(img.astype(np.uint8), 255, cv2.ADAPTIVE_THRESH_MEAN_C,\n",
        "                                    cv2.THRESH_BINARY, 11, 3)\n",
        "        img = 255 - img\n",
        "        kernel = cv2.getStructuringElement(cv2.MORPH_ELLIPSE, (2, 2))\n",
        "        img = cv2.morphologyEx(img, cv2.MORPH_CLOSE, kernel)\n",
        "\n",
        "        contours, h = cv2.findContours(img, cv2.RETR_TREE, cv2.CHAIN_APPROX_SIMPLE)\n",
        "        max_contour = max(contours, key=cv2.contourArea)\n",
        "        x, y, w, h = cv2.boundingRect(max_contour)\n",
        "        img = img[y:y + h, x:x + w]\n",
        "        img = cv2.resize(img, (288, 288), interpolation=cv2.INTER_AREA)\n",
        "        img2 = img.copy()\n",
        "        largest = largest4SideContour(img2)\n",
        "        app = approx(largest)\n",
        "        if app is None:\n",
        "            return img\n",
        "        corners = get_rectangle_corners(app)\n",
        "        img = warp_perspective(corners, img)\n",
        "        return img\n",
        "    except Exception as e:\n",
        "        print(str(e))\n",
        "        return None\n",
        "\n",
        "def ground_truth(path: str):\n",
        "    with(open(path, 'r')) as fin:\n",
        "        lines = fin.readlines()\n",
        "        truth = []\n",
        "\n",
        "        # First line contains the details of phone\n",
        "        # Second line contains size of source image\n",
        "        # Skipping both these lines\n",
        "        for line in lines[2:]:\n",
        "            for value in line.split():\n",
        "                truth.append(int(value))\n",
        "\n",
        "        return np.array(truth) # > 0\n",
        "\n",
        "\n",
        "def clean(cell):\n",
        "    kernel = cv2.getStructuringElement(cv2.MORPH_ELLIPSE, (2, 2))\n",
        "    cell = cv2.morphologyEx(cell, cv2.MORPH_CLOSE, kernel)\n",
        "    return cell\n",
        "\n",
        "\n",
        "def centerDigit(digit):\n",
        "    digit = centerX(digit)\n",
        "    digit = centerY(digit)\n",
        "    return digit\n",
        "\n",
        "\n",
        "def get_cells(sudoku, size=288):\n",
        "    sudoku = sudoku / 255.\n",
        "    cells = []\n",
        "    cell_shape = size // 9\n",
        "    for i in range(9):\n",
        "        i = cell_shape * i\n",
        "        for j in range(9):\n",
        "            j = j * cell_shape\n",
        "            cell = sudoku[i: i+cell_shape, j: j+cell_shape]\n",
        "            cell = clean(cell)\n",
        "            cell = centerDigit(cell)\n",
        "            cells.append(cell)\n",
        "\n",
        "    return np.array(cells)\n",
        "\n",
        "\n",
        "def compare_outputs(pred, truth):\n",
        "    errors = 0\n",
        "    for i in range(len(pred)):\n",
        "        if pred[i] != truth[i]:\n",
        "            errors += 1\n",
        "            break\n",
        "\n",
        "    if errors:\n",
        "        return 0\n",
        "    return 1\n",
        "\n",
        "\n",
        "def get_sudoku(path: str, model):\n",
        "    sudoku = process_image(path)\n",
        "\n",
        "    if sudoku is None:\n",
        "        raise Exception\n",
        "\n",
        "    cells = get_cells(sudoku, 288)\n",
        "    cells = np.reshape(cells, (cells.shape[0], 32, 32, 1))\n",
        "\n",
        "    # for cell in cells:\n",
        "    #   cell = cell.reshape((32, 32))\n",
        "    #   plt.imshow(cell)\n",
        "    #   plt.show()\n",
        "    #   v_pred = model.predict(cell.reshape((1, 32, 32, 1)))\n",
        "    #   print('Predicted: ',np.argmax(v_pred, axis=1))\n",
        "    #   input(\"Continue\")\n",
        "\n",
        "    v_pred = model.predict(cells)\n",
        "    v_pred = np.argmax(v_pred, axis=1)\n",
        "    sudoku_ext = np.reshape(v_pred, (9, 9))\n",
        "    return sudoku_ext"
      ],
      "metadata": {
        "id": "b8_SxzS9bKLh"
      },
      "execution_count": null,
      "outputs": []
    },
    {
      "cell_type": "markdown",
      "source": [
        "## Image before pre-processing"
      ],
      "metadata": {
        "id": "0tl0aDtKmLTw"
      }
    },
    {
      "cell_type": "code",
      "source": [
        "import matplotlib.pyplot as plt "
      ],
      "metadata": {
        "id": "U0x-otCNmP1k"
      },
      "execution_count": null,
      "outputs": []
    },
    {
      "cell_type": "code",
      "source": [
        "img = plt.imread('/content/Data/v2_train/image10.jpg')\n",
        "plt.imshow(img)\n",
        "plt.show()"
      ],
      "metadata": {
        "colab": {
          "base_uri": "https://localhost:8080/",
          "height": 269
        },
        "id": "zbP_zUDgmRDW",
        "outputId": "b5924a0d-6e83-4d0e-af43-babbf0548a92"
      },
      "execution_count": null,
      "outputs": [
        {
          "output_type": "display_data",
          "data": {
            "image/png": "[encoded data removed]",
            "text/plain": [
              "<Figure size 432x288 with 1 Axes>"
            ]
          },
          "metadata": {
            "needs_background": "light"
          }
        }
      ]
    },
    {
      "cell_type": "markdown",
      "source": [
        "## Image after pre-processing"
      ],
      "metadata": {
        "id": "YJ41oGgJmkZ-"
      }
    },
    {
      "cell_type": "code",
      "source": [
        "img = process_image('/content/Data/v2_train/image10.jpg')\n",
        "plt.imshow(img)\n",
        "plt.show()"
      ],
      "metadata": {
        "colab": {
          "base_uri": "https://localhost:8080/",
          "height": 269
        },
        "id": "KlmjQxN6luUS",
        "outputId": "1eda6e50-8853-4d0a-c16e-8e2c3a278590"
      },
      "execution_count": null,
      "outputs": [
        {
          "output_type": "display_data",
          "data": {
            "image/png": "[encoded data removed]",
            "text/plain": [
              "<Figure size 432x288 with 1 Axes>"
            ]
          },
          "metadata": {
            "needs_background": "light"
          }
        }
      ]
    },
    {
      "cell_type": "code",
      "source": [
        "img.shape"
      ],
      "metadata": {
        "colab": {
          "base_uri": "https://localhost:8080/"
        },
        "id": "OBwgxd-joDjQ",
        "outputId": "36e5ff9c-3e64-41a9-fcd8-336078d48f52"
      },
      "execution_count": null,
      "outputs": [
        {
          "output_type": "execute_result",
          "data": {
            "text/plain": [
              "(288, 288)"
            ]
          },
          "metadata": {},
          "execution_count": 10
        }
      ]
    },
    {
      "cell_type": "code",
      "source": [
        "cells_img = get_cells(img, size=288)"
      ],
      "metadata": {
        "id": "FnetgJo2neQg"
      },
      "execution_count": null,
      "outputs": []
    },
    {
      "cell_type": "code",
      "source": [
        "cells_img.shape"
      ],
      "metadata": {
        "colab": {
          "base_uri": "https://localhost:8080/"
        },
        "id": "oDYoL4CunisM",
        "outputId": "4b776bb9-1589-48bc-a99a-a93a638236ed"
      },
      "execution_count": null,
      "outputs": [
        {
          "output_type": "execute_result",
          "data": {
            "text/plain": [
              "(81, 32, 32)"
            ]
          },
          "metadata": {},
          "execution_count": 12
        }
      ]
    },
    {
      "cell_type": "code",
      "source": [
        "plt.imshow(cells_img[1])\n",
        "plt.show()"
      ],
      "metadata": {
        "colab": {
          "base_uri": "https://localhost:8080/",
          "height": 266
        },
        "id": "zKHRlotynnkE",
        "outputId": "8c36cb14-bfa6-4c43-94f0-d348d184fac3"
      },
      "execution_count": null,
      "outputs": [
        {
          "output_type": "display_data",
          "data": {
            "image/png": "[encoded data removed]",
            "text/plain": [
              "<Figure size 432x288 with 1 Axes>"
            ]
          },
          "metadata": {
            "needs_background": "light"
          }
        }
      ]
    },
    {
      "cell_type": "markdown",
      "source": [
        "# Step 1: Preparing the training dataset"
      ],
      "metadata": {
        "id": "jHvV7rQHeWLq"
      }
    },
    {
      "cell_type": "code",
      "source": [
        "X_train = []\n",
        "y_train = []\n",
        "y_train_all = []\n",
        "\n",
        "for path in tqdm(glob('/content/Data/v2_train/*.jpg')):\n",
        "  path = path[:-4]\n",
        "  processed_img = process_image(path + '.jpg')\n",
        "  if processed_img is None:\n",
        "    continue\n",
        "  X_train.append(processed_img)\n",
        "  y_train.append(ground_truth(path + '.dat') > 0)\n",
        "  y_train_all.append(ground_truth(path + '.dat'))\n",
        "\n",
        "X_train = np.array(X_train)\n",
        "y_train = np.array(y_train)\n",
        "y_train_all = np.array(y_train_all)\n",
        "\n",
        "X_test = []\n",
        "y_test = []\n",
        "y_test_all = []\n",
        "\n",
        "for path in tqdm(glob('/content/Data/v2_test/*.jpg')):\n",
        "  path = path[:-4]\n",
        "  processed_img = process_image(path + '.jpg')\n",
        "  if processed_img is None:\n",
        "    continue\n",
        "  X_test.append(processed_img)\n",
        "  y_test.append(ground_truth(path + '.dat') > 0)\n",
        "  y_test_all.append(ground_truth(path + '.dat'))\n",
        "\n",
        "X_test = np.array(X_test)\n",
        "y_test = np.array(y_test)\n",
        "y_test_all = np.array(y_test_all)"
      ],
      "metadata": {
        "colab": {
          "base_uri": "https://localhost:8080/",
          "height": 81,
          "referenced_widgets": [
            "e52aff9c4a3f4dc8a46356f59fc5d63a",
            "ee1c39721b4c404785baa7fc5a3150be",
            "46b8c0451da542d39575dc9cd8284a7f",
            "e22d0e9e5a624285b279e7353fbe9ae2",
            "95d4c992455440b698fbca5f2f1792d8",
            "4a7643947bd84ecc8a0591ad538f6d09",
            "84bfc46d4465445989194a502901c966",
            "9132d92fab594bf18ed3915b5b54a6a4",
            "46bd26911ab44360a8e2300fead8ec17",
            "11a49fc9e3ae4dcebec0e61ee5c6b27e",
            "b5ff8f24742b4d3ab333b184ce3af850",
            "523402855e5c46079a7ac122e56ce294",
            "fcd49b94b84c48469569274a4c61ff4e",
            "ea90d620805e40f79ed032b18b15b043",
            "bda1c7b01a6d496588432ba9cad84521",
            "9f18029a75a24e1bb89a61c3f022fe8c",
            "57a7179072ae42a192cb6395e1dd1af2",
            "55f12e2c6ae04c40925575dd6d6b58af",
            "06969ae5acd44275af72ce63a6308df1",
            "0e8e03de9b424ae8846ec0d6bb56e79f",
            "d979224ddbf347f58ee3805ba9100170",
            "70d4e6b07a324f26b5d60f8a3ab2d6d8"
          ]
        },
        "id": "pg3LRbzMeZul",
        "outputId": "8351585c-fd7c-4721-9a8b-b14af961ec35"
      },
      "execution_count": null,
      "outputs": [
        {
          "output_type": "display_data",
          "data": {
            "application/vnd.jupyter.widget-view+json": {
              "model_id": "e52aff9c4a3f4dc8a46356f59fc5d63a",
              "version_minor": 0,
              "version_major": 2
            },
            "text/plain": [
              "  0%|          | 0/160 [00:00<?, ?it/s]"
            ]
          },
          "metadata": {}
        },
        {
          "output_type": "display_data",
          "data": {
            "application/vnd.jupyter.widget-view+json": {
              "model_id": "523402855e5c46079a7ac122e56ce294",
              "version_minor": 0,
              "version_major": 2
            },
            "text/plain": [
              "  0%|          | 0/40 [00:00<?, ?it/s]"
            ]
          },
          "metadata": {}
        }
      ]
    },
    {
      "cell_type": "code",
      "source": [
        "X_train.shape, X_test.shape"
      ],
      "metadata": {
        "id": "X83SLFbkfDY4",
        "colab": {
          "base_uri": "https://localhost:8080/"
        },
        "outputId": "259106ea-78b1-4376-9531-7e456980d068"
      },
      "execution_count": null,
      "outputs": [
        {
          "output_type": "execute_result",
          "data": {
            "text/plain": [
              "((160, 288, 288), (40, 288, 288))"
            ]
          },
          "metadata": {},
          "execution_count": 41
        }
      ]
    },
    {
      "cell_type": "code",
      "source": [
        "y_train.shape, y_test.shape, y_train_all.shape, y_test_all.shape"
      ],
      "metadata": {
        "colab": {
          "base_uri": "https://localhost:8080/"
        },
        "id": "dtof0oTjk7Gk",
        "outputId": "99695db2-4d47-459a-b54d-3d86683e01bf"
      },
      "execution_count": null,
      "outputs": [
        {
          "output_type": "execute_result",
          "data": {
            "text/plain": [
              "((160, 81), (40, 81), (160, 81), (40, 81))"
            ]
          },
          "metadata": {},
          "execution_count": 42
        }
      ]
    },
    {
      "cell_type": "code",
      "source": [
        "digit_train_img = []\n",
        "digit_train_truth = []\n",
        "digit_train_truth_all = []\n",
        "\n",
        "for i, sudoku in tqdm(enumerate(X_train)):\n",
        "\t\tdigit_train_img.extend(get_cells(sudoku, size=288))\n",
        "\t\tdigit_train_truth.extend(y_train[i])\n",
        "\t\tdigit_train_truth_all.extend(y_train_all[i])\n",
        "\n",
        "digit_train_truth = np.array(digit_train_truth)\n",
        "digit_train_img = np.array(digit_train_img)\n",
        "digit_train_truth_all = np.array(digit_train_truth_all)"
      ],
      "metadata": {
        "colab": {
          "base_uri": "https://localhost:8080/",
          "height": 49,
          "referenced_widgets": [
            "b2acd85958c748139f650938c89930ed",
            "a258ef7ba63b4320b4128fb100816dd4",
            "83d4c7c6aed44db9b80baa6c6432ce7c",
            "d4aaa13b8e4445b9a7347e9e04ae6b8f",
            "2d387abc285d4e00b98ed515bc2d1f06",
            "83583c1e696147e1810570380b2ce240",
            "aed43ae7908146dcbd5e6b1f031abefc",
            "863ecd346e3e452cba7784d8fdcb5033",
            "92157fb4be1741b3b8bddb2e7462512f",
            "7ffc048041974a05a805fa5b6a581a4b",
            "43507e019c114105a85fb9561ce63fff"
          ]
        },
        "id": "SMHvrDQTlEIM",
        "outputId": "db468808-58d0-48b7-845e-4a4f7e6f96a9"
      },
      "execution_count": null,
      "outputs": [
        {
          "output_type": "display_data",
          "data": {
            "application/vnd.jupyter.widget-view+json": {
              "model_id": "b2acd85958c748139f650938c89930ed",
              "version_minor": 0,
              "version_major": 2
            },
            "text/plain": [
              "0it [00:00, ?it/s]"
            ]
          },
          "metadata": {}
        }
      ]
    },
    {
      "cell_type": "code",
      "source": [
        "digit_train_img.shape, digit_train_truth.shape"
      ],
      "metadata": {
        "colab": {
          "base_uri": "https://localhost:8080/"
        },
        "id": "QNkFi2IeoyrE",
        "outputId": "c22a2440-a2df-4c43-cd5e-966ffbef74c6"
      },
      "execution_count": null,
      "outputs": [
        {
          "output_type": "execute_result",
          "data": {
            "text/plain": [
              "((12960, 32, 32), (12960,))"
            ]
          },
          "metadata": {},
          "execution_count": 44
        }
      ]
    },
    {
      "cell_type": "code",
      "source": [
        "digit_test_img = []\n",
        "digit_test_truth = []\n",
        "digit_test_truth_all = []\n",
        "\n",
        "for i, sudoku in tqdm(enumerate(X_test)):\n",
        "\t\tdigit_test_img.extend(get_cells(sudoku, size=288))\n",
        "\t\tdigit_test_truth.extend(y_test[i])\n",
        "\t\tdigit_test_truth_all.extend(y_test_all[i])\n",
        "\n",
        "digit_test_truth = np.array(digit_test_truth)\n",
        "digit_test_img = np.array(digit_test_img)\n",
        "digit_test_truth_all = np.array(digit_test_truth_all)"
      ],
      "metadata": {
        "id": "jvjkJOVyo7D3",
        "colab": {
          "base_uri": "https://localhost:8080/",
          "height": 49,
          "referenced_widgets": [
            "7d405dfdc4684f91a97aa703be39a690",
            "534e380d8f084ada8f2d0fde809579b6",
            "fd3c086681634f2c9f2005c1bab37c3c",
            "ac411bb5d42e4da3a2425b071e0ce6cc",
            "0dd36cdb2e33471aad547d8423e0d491",
            "c4d6ca17cf604be8bf1a2071a8a50437",
            "355e82bc39a444a29a037fcc2b92475d",
            "69994e80eca9476299cdcee51500a4ad",
            "aa842e7cb993475994b1ddf9b81b6099",
            "3961724a88514375828aa7368ff080d8",
            "4e21cceb7b6e42cf81123032ed0b809f"
          ]
        },
        "outputId": "48e139c6-7e5b-4ae4-b063-d8e950aeaa1b"
      },
      "execution_count": null,
      "outputs": [
        {
          "output_type": "display_data",
          "data": {
            "application/vnd.jupyter.widget-view+json": {
              "model_id": "7d405dfdc4684f91a97aa703be39a690",
              "version_minor": 0,
              "version_major": 2
            },
            "text/plain": [
              "0it [00:00, ?it/s]"
            ]
          },
          "metadata": {}
        }
      ]
    },
    {
      "cell_type": "code",
      "source": [
        "digit_test_img.shape, digit_test_truth.shape"
      ],
      "metadata": {
        "colab": {
          "base_uri": "https://localhost:8080/"
        },
        "id": "3JFdGdgIwRsK",
        "outputId": "4430f1dd-654f-43a6-cdda-5431d44d9a00"
      },
      "execution_count": null,
      "outputs": [
        {
          "output_type": "execute_result",
          "data": {
            "text/plain": [
              "((3240, 32, 32), (3240,))"
            ]
          },
          "metadata": {},
          "execution_count": 46
        }
      ]
    },
    {
      "cell_type": "code",
      "source": [
        "digit_train_img = digit_train_img.reshape(-1, 1024)\n",
        "digit_test_img = digit_test_img.reshape(-1, 1024)"
      ],
      "metadata": {
        "id": "VTyMb2pkw4XK"
      },
      "execution_count": null,
      "outputs": []
    },
    {
      "cell_type": "code",
      "source": [
        "digit_train_img.shape"
      ],
      "metadata": {
        "colab": {
          "base_uri": "https://localhost:8080/"
        },
        "id": "cB6EUiO_xE0o",
        "outputId": "e5e92f05-31ba-4d96-8622-96dd95bb451a"
      },
      "execution_count": null,
      "outputs": [
        {
          "output_type": "execute_result",
          "data": {
            "text/plain": [
              "(12960, 1024)"
            ]
          },
          "metadata": {},
          "execution_count": 48
        }
      ]
    },
    {
      "cell_type": "code",
      "source": [
        "lr = LogisticRegression()\n",
        "lr.fit(digit_train_img, digit_train_truth)"
      ],
      "metadata": {
        "colab": {
          "base_uri": "https://localhost:8080/"
        },
        "id": "2532dpBewXiu",
        "outputId": "cf2460d3-1570-4434-ebf1-a2b20ace12d2"
      },
      "execution_count": null,
      "outputs": [
        {
          "output_type": "stream",
          "name": "stderr",
          "text": [
            "/usr/local/lib/python3.7/dist-packages/sklearn/linear_model/_logistic.py:818: ConvergenceWarning: lbfgs failed to converge (status=1):\n",
            "STOP: TOTAL NO. of ITERATIONS REACHED LIMIT.\n",
            "\n",
            "Increase the number of iterations (max_iter) or scale the data as shown in:\n",
            "    https://scikit-learn.org/stable/modules/preprocessing.html\n",
            "Please also refer to the documentation for alternative solver options:\n",
            "    https://scikit-learn.org/stable/modules/linear_model.html#logistic-regression\n",
            "  extra_warning_msg=_LOGISTIC_SOLVER_CONVERGENCE_MSG,\n"
          ]
        },
        {
          "output_type": "execute_result",
          "data": {
            "text/plain": [
              "LogisticRegression()"
            ]
          },
          "metadata": {},
          "execution_count": 49
        }
      ]
    },
    {
      "cell_type": "code",
      "source": [
        "y_pred = lr.predict(digit_test_img)"
      ],
      "metadata": {
        "id": "yhpzYpj6wgDa"
      },
      "execution_count": null,
      "outputs": []
    },
    {
      "cell_type": "code",
      "source": [
        "y_pred"
      ],
      "metadata": {
        "colab": {
          "base_uri": "https://localhost:8080/"
        },
        "id": "L2Gbcqs7xYqz",
        "outputId": "b1169c77-87ef-4296-f682-271a5e49d7e0"
      },
      "execution_count": null,
      "outputs": [
        {
          "output_type": "execute_result",
          "data": {
            "text/plain": [
              "array([False, False,  True, ..., False,  True, False])"
            ]
          },
          "metadata": {},
          "execution_count": 65
        }
      ]
    },
    {
      "cell_type": "code",
      "source": [
        "#y_pred = y_pred > 0.5"
      ],
      "metadata": {
        "id": "loHD8vWcxelZ"
      },
      "execution_count": null,
      "outputs": []
    },
    {
      "cell_type": "code",
      "source": [
        "print(classification_report(y_pred=y_pred, y_true=digit_test_truth))"
      ],
      "metadata": {
        "colab": {
          "base_uri": "https://localhost:8080/"
        },
        "id": "mZsEa2TrxcUs",
        "outputId": "f66664bf-5799-41f4-924c-d0a5bafd1943"
      },
      "execution_count": null,
      "outputs": [
        {
          "output_type": "stream",
          "name": "stdout",
          "text": [
            "              precision    recall  f1-score   support\n",
            "\n",
            "       False       0.95      0.96      0.96      2084\n",
            "        True       0.92      0.92      0.92      1156\n",
            "\n",
            "    accuracy                           0.94      3240\n",
            "   macro avg       0.94      0.94      0.94      3240\n",
            "weighted avg       0.94      0.94      0.94      3240\n",
            "\n"
          ]
        }
      ]
    },
    {
      "cell_type": "code",
      "source": [
        "from collections import Counter\n",
        "Counter(digit_train_truth)"
      ],
      "metadata": {
        "colab": {
          "base_uri": "https://localhost:8080/"
        },
        "id": "tnA4hpE6xqoR",
        "outputId": "082d46ea-486e-4891-e5ff-0440a18fd88d"
      },
      "execution_count": null,
      "outputs": [
        {
          "output_type": "execute_result",
          "data": {
            "text/plain": [
              "Counter({False: 8304, True: 4656})"
            ]
          },
          "metadata": {},
          "execution_count": 54
        }
      ]
    },
    {
      "cell_type": "markdown",
      "source": [
        "# Now, let's distinguish between the digits present"
      ],
      "metadata": {
        "id": "WRVuXODuz0Jg"
      }
    },
    {
      "cell_type": "code",
      "source": [
        "# Extract the examples that have a digit in them\n",
        "\n",
        "digit_train_img_nz = digit_train_img[digit_train_truth_all > 0]\n",
        "digit_train_truth_nz = digit_train_truth_all[digit_train_truth_all > 0]\n",
        "\n",
        "digit_test_img_nz = digit_test_img[digit_test_truth_all > 0]\n",
        "digit_test_truth_nz = digit_test_truth_all[digit_test_truth_all > 0]"
      ],
      "metadata": {
        "id": "IEJ-widL0Cja"
      },
      "execution_count": null,
      "outputs": []
    },
    {
      "cell_type": "code",
      "source": [
        "# Train 9 different Logistic Regression models, one for each class (digit)\n",
        "models = []\n",
        "\n",
        "for cl in range(1, 10):\n",
        "  model = LogisticRegression()\n",
        "  model.fit(digit_train_img_nz, digit_train_truth_nz == cl)\n",
        "  models.append(model)"
      ],
      "metadata": {
        "id": "1WORIVcQ0A2k"
      },
      "execution_count": null,
      "outputs": []
    },
    {
      "cell_type": "code",
      "source": [
        "# For each test example, run all 9 classifiers (digit 1 to 9)\n",
        "\n",
        "preds = []\n",
        "for cl in range(1, 10):\n",
        "  preds.append(models[cl - 1].predict_proba(digit_test_img_nz)[:, 1])"
      ],
      "metadata": {
        "id": "Jusm6xRv1eN4"
      },
      "execution_count": null,
      "outputs": []
    },
    {
      "cell_type": "code",
      "source": [
        "(digit_test_truth_nz - 1 == np.array(preds).T.argmax(axis=1)).mean()"
      ],
      "metadata": {
        "colab": {
          "base_uri": "https://localhost:8080/"
        },
        "id": "v20c5hF1363g",
        "outputId": "7d5eb270-5fde-459c-95a0-2a2655321e3c"
      },
      "execution_count": null,
      "outputs": [
        {
          "output_type": "execute_result",
          "data": {
            "text/plain": [
              "0.5700692041522492"
            ]
          },
          "metadata": {},
          "execution_count": 103
        }
      ]
    },
    {
      "cell_type": "code",
      "source": [
        "# Take the most confident classifier as the predicted label\n",
        "print(classification_report(digit_test_truth_nz - 1, np.array(preds).T.argmax(axis=1)))"
      ],
      "metadata": {
        "colab": {
          "base_uri": "https://localhost:8080/"
        },
        "id": "FdVQXteR00FX",
        "outputId": "e10cec56-e912-4482-90bf-713fbf88ae84"
      },
      "execution_count": null,
      "outputs": [
        {
          "output_type": "stream",
          "name": "stdout",
          "text": [
            "              precision    recall  f1-score   support\n",
            "\n",
            "           0       0.71      0.62      0.66       129\n",
            "           1       0.67      0.64      0.65       139\n",
            "           2       0.58      0.54      0.56       123\n",
            "           3       0.55      0.63      0.59       124\n",
            "           4       0.55      0.59      0.57       127\n",
            "           5       0.44      0.41      0.42       117\n",
            "           6       0.67      0.69      0.68       125\n",
            "           7       0.54      0.52      0.53       147\n",
            "           8       0.43      0.47      0.45       125\n",
            "\n",
            "    accuracy                           0.57      1156\n",
            "   macro avg       0.57      0.57      0.57      1156\n",
            "weighted avg       0.57      0.57      0.57      1156\n",
            "\n"
          ]
        }
      ]
    },
    {
      "cell_type": "code",
      "source": [
        "from collections import Counter\n",
        "Counter(digit_test_truth_nz)"
      ],
      "metadata": {
        "colab": {
          "base_uri": "https://localhost:8080/"
        },
        "id": "s3D44M0b1p-a",
        "outputId": "9c74f829-6d3c-4021-e9f9-6151bcc553d2"
      },
      "execution_count": null,
      "outputs": [
        {
          "output_type": "execute_result",
          "data": {
            "text/plain": [
              "Counter({1: 129,\n",
              "         2: 139,\n",
              "         3: 123,\n",
              "         4: 124,\n",
              "         5: 127,\n",
              "         6: 117,\n",
              "         7: 125,\n",
              "         8: 147,\n",
              "         9: 125})"
            ]
          },
          "metadata": {},
          "execution_count": 100
        }
      ]
    }
  ]
}